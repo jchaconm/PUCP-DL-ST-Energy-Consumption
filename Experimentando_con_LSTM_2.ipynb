{
  "nbformat": 4,
  "nbformat_minor": 0,
  "metadata": {
    "kernelspec": {
      "display_name": "Python 3",
      "language": "python",
      "name": "python3"
    },
    "language_info": {
      "codemirror_mode": {
        "name": "ipython",
        "version": 3
      },
      "file_extension": ".py",
      "mimetype": "text/x-python",
      "name": "python",
      "nbconvert_exporter": "python",
      "pygments_lexer": "ipython3",
      "version": "3.7.6"
    },
    "papermill": {
      "duration": 388.816592,
      "end_time": "2021-02-13T20:47:08.431540",
      "environment_variables": {},
      "exception": null,
      "input_path": "__notebook__.ipynb",
      "output_path": "__notebook__.ipynb",
      "parameters": {},
      "start_time": "2021-02-13T20:40:39.614948",
      "version": "2.1.0"
    },
    "colab": {
      "name": "Experimentando con LSTM 2.ipynb",
      "provenance": [],
      "collapsed_sections": [],
      "toc_visible": true
    },
    "accelerator": "GPU"
  },
  "cells": [
    {
      "cell_type": "markdown",
      "metadata": {
        "papermill": {
          "duration": 0.029799,
          "end_time": "2021-02-13T20:40:44.392086",
          "exception": false,
          "start_time": "2021-02-13T20:40:44.362287",
          "status": "completed"
        },
        "tags": [],
        "id": "fWN6wW6QvVXX"
      },
      "source": [
        "#Notebook Prueba con LSTM"
      ]
    },
    {
      "cell_type": "code",
      "metadata": {
        "_cell_guid": "b1076dfc-b9ad-4769-8c92-a6c4dae69d19",
        "_uuid": "8f2839f25d086af736a60e9eeb907d3b93b6e0e5",
        "execution": {
          "iopub.execute_input": "2021-02-13T20:40:44.456632Z",
          "iopub.status.busy": "2021-02-13T20:40:44.455937Z",
          "iopub.status.idle": "2021-02-13T20:40:44.469380Z",
          "shell.execute_reply": "2021-02-13T20:40:44.468709Z"
        },
        "papermill": {
          "duration": 0.048479,
          "end_time": "2021-02-13T20:40:44.469490",
          "exception": false,
          "start_time": "2021-02-13T20:40:44.421011",
          "status": "completed"
        },
        "tags": [],
        "id": "Sk0BT2q0vVXq"
      },
      "source": [
        "import numpy as np\n",
        "import pandas as pd"
      ],
      "execution_count": 50,
      "outputs": []
    },
    {
      "cell_type": "markdown",
      "metadata": {
        "papermill": {
          "duration": 0.029274,
          "end_time": "2021-02-13T20:40:44.528827",
          "exception": false,
          "start_time": "2021-02-13T20:40:44.499553",
          "status": "completed"
        },
        "tags": [],
        "id": "h8wzMVTtvVXw"
      },
      "source": [
        "#Importando data"
      ]
    },
    {
      "cell_type": "code",
      "metadata": {
        "colab": {
          "base_uri": "https://localhost:8080/"
        },
        "id": "mm9XvcxicsPe",
        "outputId": "a0b46eff-8043-4b80-c9e8-585553f1e484"
      },
      "source": [
        "!pip install -U keras-tuner"
      ],
      "execution_count": 438,
      "outputs": [
        {
          "output_type": "stream",
          "text": [
            "Collecting keras-tuner\n",
            "\u001b[?25l  Downloading https://files.pythonhosted.org/packages/20/ec/1ef246787174b1e2bb591c95f29d3c1310070cad877824f907faba3dade9/keras-tuner-1.0.2.tar.gz (62kB)\n",
            "\r\u001b[K     |█████▏                          | 10kB 18.4MB/s eta 0:00:01\r\u001b[K     |██████████▍                     | 20kB 20.5MB/s eta 0:00:01\r\u001b[K     |███████████████▋                | 30kB 16.6MB/s eta 0:00:01\r\u001b[K     |████████████████████▉           | 40kB 14.3MB/s eta 0:00:01\r\u001b[K     |██████████████████████████      | 51kB 12.0MB/s eta 0:00:01\r\u001b[K     |███████████████████████████████▎| 61kB 13.7MB/s eta 0:00:01\r\u001b[K     |████████████████████████████████| 71kB 5.7MB/s \n",
            "\u001b[?25hRequirement already satisfied, skipping upgrade: packaging in /usr/local/lib/python3.7/dist-packages (from keras-tuner) (20.9)\n",
            "Requirement already satisfied, skipping upgrade: future in /usr/local/lib/python3.7/dist-packages (from keras-tuner) (0.16.0)\n",
            "Requirement already satisfied, skipping upgrade: numpy in /usr/local/lib/python3.7/dist-packages (from keras-tuner) (1.19.5)\n",
            "Requirement already satisfied, skipping upgrade: tabulate in /usr/local/lib/python3.7/dist-packages (from keras-tuner) (0.8.9)\n",
            "Collecting terminaltables\n",
            "  Downloading https://files.pythonhosted.org/packages/9b/c4/4a21174f32f8a7e1104798c445dacdc1d4df86f2f26722767034e4de4bff/terminaltables-3.1.0.tar.gz\n",
            "Collecting colorama\n",
            "  Downloading https://files.pythonhosted.org/packages/44/98/5b86278fbbf250d239ae0ecb724f8572af1c91f4a11edf4d36a206189440/colorama-0.4.4-py2.py3-none-any.whl\n",
            "Requirement already satisfied, skipping upgrade: tqdm in /usr/local/lib/python3.7/dist-packages (from keras-tuner) (4.41.1)\n",
            "Requirement already satisfied, skipping upgrade: requests in /usr/local/lib/python3.7/dist-packages (from keras-tuner) (2.23.0)\n",
            "Requirement already satisfied, skipping upgrade: scipy in /usr/local/lib/python3.7/dist-packages (from keras-tuner) (1.4.1)\n",
            "Requirement already satisfied, skipping upgrade: scikit-learn in /usr/local/lib/python3.7/dist-packages (from keras-tuner) (0.22.2.post1)\n",
            "Requirement already satisfied, skipping upgrade: pyparsing>=2.0.2 in /usr/local/lib/python3.7/dist-packages (from packaging->keras-tuner) (2.4.7)\n",
            "Requirement already satisfied, skipping upgrade: chardet<4,>=3.0.2 in /usr/local/lib/python3.7/dist-packages (from requests->keras-tuner) (3.0.4)\n",
            "Requirement already satisfied, skipping upgrade: urllib3!=1.25.0,!=1.25.1,<1.26,>=1.21.1 in /usr/local/lib/python3.7/dist-packages (from requests->keras-tuner) (1.24.3)\n",
            "Requirement already satisfied, skipping upgrade: idna<3,>=2.5 in /usr/local/lib/python3.7/dist-packages (from requests->keras-tuner) (2.10)\n",
            "Requirement already satisfied, skipping upgrade: certifi>=2017.4.17 in /usr/local/lib/python3.7/dist-packages (from requests->keras-tuner) (2020.12.5)\n",
            "Requirement already satisfied, skipping upgrade: joblib>=0.11 in /usr/local/lib/python3.7/dist-packages (from scikit-learn->keras-tuner) (1.0.1)\n",
            "Building wheels for collected packages: keras-tuner, terminaltables\n",
            "  Building wheel for keras-tuner (setup.py) ... \u001b[?25l\u001b[?25hdone\n",
            "  Created wheel for keras-tuner: filename=keras_tuner-1.0.2-cp37-none-any.whl size=78938 sha256=0336a72c4c73d71e55948943c93fd3a3cb230ce0573bfe3b33820d3a567bbe11\n",
            "  Stored in directory: /root/.cache/pip/wheels/bb/a1/8a/7c3de0efb3707a1701b36ebbfdbc4e67aedf6d4943a1f463d6\n",
            "  Building wheel for terminaltables (setup.py) ... \u001b[?25l\u001b[?25hdone\n",
            "  Created wheel for terminaltables: filename=terminaltables-3.1.0-cp37-none-any.whl size=15356 sha256=5b920e942ed76890605d795ac9fc89cfdf1025f0123503a18982b0b1084fad73\n",
            "  Stored in directory: /root/.cache/pip/wheels/30/6b/50/6c75775b681fb36cdfac7f19799888ef9d8813aff9e379663e\n",
            "Successfully built keras-tuner terminaltables\n",
            "Installing collected packages: terminaltables, colorama, keras-tuner\n",
            "Successfully installed colorama-0.4.4 keras-tuner-1.0.2 terminaltables-3.1.0\n"
          ],
          "name": "stdout"
        }
      ]
    },
    {
      "cell_type": "code",
      "metadata": {
        "colab": {
          "base_uri": "https://localhost:8080/"
        },
        "id": "wy6dHov_1h62",
        "outputId": "a46b459a-de6d-4c63-d3a1-3d91e439691c"
      },
      "source": [
        "!pip install gdown\n",
        "!gdown https://drive.google.com/uc?id=1D3hyPdj4yzJPgqf-2N6GStx2KJnbcqvk\n",
        "!gdown https://drive.google.com/uc?id=10kl3EyVkIM1GEjzHR_3DRwruQddVNaqH"
      ],
      "execution_count": 154,
      "outputs": [
        {
          "output_type": "stream",
          "text": [
            "Requirement already satisfied: gdown in /usr/local/lib/python3.7/dist-packages (3.6.4)\n",
            "Requirement already satisfied: requests in /usr/local/lib/python3.7/dist-packages (from gdown) (2.23.0)\n",
            "Requirement already satisfied: tqdm in /usr/local/lib/python3.7/dist-packages (from gdown) (4.41.1)\n",
            "Requirement already satisfied: six in /usr/local/lib/python3.7/dist-packages (from gdown) (1.15.0)\n",
            "Requirement already satisfied: urllib3!=1.25.0,!=1.25.1,<1.26,>=1.21.1 in /usr/local/lib/python3.7/dist-packages (from requests->gdown) (1.24.3)\n",
            "Requirement already satisfied: chardet<4,>=3.0.2 in /usr/local/lib/python3.7/dist-packages (from requests->gdown) (3.0.4)\n",
            "Requirement already satisfied: idna<3,>=2.5 in /usr/local/lib/python3.7/dist-packages (from requests->gdown) (2.10)\n",
            "Requirement already satisfied: certifi>=2017.4.17 in /usr/local/lib/python3.7/dist-packages (from requests->gdown) (2020.12.5)\n",
            "Downloading...\n",
            "From: https://drive.google.com/uc?id=1D3hyPdj4yzJPgqf-2N6GStx2KJnbcqvk\n",
            "To: /content/Train_base_with_missing_data.csv\n",
            "139MB [00:00, 194MB/s]\n",
            "Downloading...\n",
            "From: https://drive.google.com/uc?id=10kl3EyVkIM1GEjzHR_3DRwruQddVNaqH\n",
            "To: /content/Train_base.txt\n",
            "139MB [00:01, 100MB/s] \n"
          ],
          "name": "stdout"
        }
      ]
    },
    {
      "cell_type": "markdown",
      "metadata": {
        "id": "_SLZ-32-qbxk"
      },
      "source": [
        "Dataset testing"
      ]
    },
    {
      "cell_type": "code",
      "metadata": {
        "colab": {
          "base_uri": "https://localhost:8080/"
        },
        "id": "hpVhdUswqdtl",
        "outputId": "8adf1d9c-0080-4072-a937-4da27639bf05"
      },
      "source": [
        "!gdown https://drive.google.com/uc?id=1Febz_GR_F9FbE7Bw1aaUeEY-zAfLFeUa"
      ],
      "execution_count": 52,
      "outputs": [
        {
          "output_type": "stream",
          "text": [
            "Downloading...\n",
            "From: https://drive.google.com/uc?id=1Febz_GR_F9FbE7Bw1aaUeEY-zAfLFeUa\n",
            "To: /content/Test_base.txt\n",
            "\r0.00B [00:00, ?B/s]\r6.02MB [00:00, 94.3MB/s]\n"
          ],
          "name": "stdout"
        }
      ]
    },
    {
      "cell_type": "code",
      "metadata": {
        "id": "r5Q0fEGlF1PT"
      },
      "source": [
        "df= pd.read_csv('./Train_base.txt',\n",
        "                infer_datetime_format=True,\n",
        "                parse_dates={'Fecha_Registro':[1,2]}, index_col=['Fecha_Registro'])"
      ],
      "execution_count": 200,
      "outputs": []
    },
    {
      "cell_type": "code",
      "metadata": {
        "_cell_guid": "79c7e3d0-c299-4dcb-8224-4455121ee9b0",
        "_uuid": "d629ff2d2480ee46fbb7e2d37f6b5fab8052498a",
        "execution": {
          "iopub.execute_input": "2021-02-13T20:40:44.596148Z",
          "iopub.status.busy": "2021-02-13T20:40:44.595479Z",
          "iopub.status.idle": "2021-02-13T20:41:00.594766Z",
          "shell.execute_reply": "2021-02-13T20:41:00.595284Z"
        },
        "papermill": {
          "duration": 16.037403,
          "end_time": "2021-02-13T20:41:00.595464",
          "exception": false,
          "start_time": "2021-02-13T20:40:44.558061",
          "status": "completed"
        },
        "tags": [],
        "id": "hME0rpQVvVXx"
      },
      "source": [
        "df = pd.read_csv('./Train_base_with_missing_data.csv',\n",
        "                infer_datetime_format=True,\n",
        "                  parse_dates=['Fecha_Registro'],\n",
        "                index_col=['Fecha_Registro'])\n",
        "df = df.sort_index()\n"
      ],
      "execution_count": 460,
      "outputs": []
    },
    {
      "cell_type": "code",
      "metadata": {
        "id": "NJKoOfESI5i1"
      },
      "source": [
        "seasonByMonth =  [month%12 // 3 + 1 for month in range(1, 13)]\n",
        "def isSeasonY(month, seasonIx):\n",
        "  season = seasonByMonth[int(month) - 1]\n",
        "  return int(season == seasonIx)"
      ],
      "execution_count": 198,
      "outputs": []
    },
    {
      "cell_type": "markdown",
      "metadata": {
        "papermill": {
          "duration": 0.048748,
          "end_time": "2021-02-13T20:41:08.334318",
          "exception": false,
          "start_time": "2021-02-13T20:41:08.285570",
          "status": "completed"
        },
        "tags": [],
        "id": "ze5CKYFmvVX_"
      },
      "source": [
        "# Probando con LSTM"
      ]
    },
    {
      "cell_type": "code",
      "metadata": {
        "id": "tg6VUAMwXida"
      },
      "source": [
        "del df['ID_Registro']"
      ],
      "execution_count": 461,
      "outputs": []
    },
    {
      "cell_type": "code",
      "metadata": {
        "execution": {
          "iopub.execute_input": "2021-02-13T20:41:08.577680Z",
          "iopub.status.busy": "2021-02-13T20:41:08.576985Z",
          "iopub.status.idle": "2021-02-13T20:41:08.580704Z",
          "shell.execute_reply": "2021-02-13T20:41:08.579721Z"
        },
        "papermill": {
          "duration": 0.099542,
          "end_time": "2021-02-13T20:41:08.580913",
          "exception": false,
          "start_time": "2021-02-13T20:41:08.481371",
          "status": "completed"
        },
        "tags": [],
        "id": "wXFRPFgDvVYA"
      },
      "source": [
        "df = df[['Consumo_Energia_Global_kw', 'Consumo_Energia_Reactiva_kw', 'Voltaje_vol',\n",
        "       'Intensidad_global_ampere', 'Consumo_Energia_Area_2_calidad_watt_hora', 'Consumo_Energia_Area_1_administrativo_watt_hora','Consumo_Energia_Area_3_productivo_watt_hora',\n",
        "       ]]"
      ],
      "execution_count": 462,
      "outputs": []
    },
    {
      "cell_type": "code",
      "metadata": {
        "id": "2yHigeaX38vu"
      },
      "source": [
        "df_values =df.values"
      ],
      "execution_count": 463,
      "outputs": []
    },
    {
      "cell_type": "code",
      "metadata": {
        "id": "EpO9d8Dj35iv"
      },
      "source": [
        "df['Potencia-cosphi'] = ((np.sqrt(1 - np.square((df_values[:,1]*1000) / (df_values[:,2] * df_values[:,3]))))*df_values[:,2]*df_values[:,3])/1000"
      ],
      "execution_count": 464,
      "outputs": []
    },
    {
      "cell_type": "code",
      "metadata": {
        "id": "KcoFkc8DYgn0"
      },
      "source": [
        "df_values =df.values\n",
        "df['Consumo_Energia_Restante'] = (df_values[:,1] * 1000 / 60) - (df_values[:,4] + df_values[:,5] + df_values[:,6])\n",
        "\n",
        "#d = pd.Series(df.index, index=df.index)\n",
        "#df['Dia_Semana'] = d.dt.dayofweek\n",
        "#df['Hora'] = d.dt.hour\n",
        "#df['Minuto'] = d.dt.minute\n",
        "#df['Dia'] = d.dt.day\n",
        "#df['Semana'] = d.dt.week\n",
        "#df['Mes'] = d.dt.month\n",
        "#df['Anio'] = d.dt.year\n",
        "#df['Es_FDS'] = df['Dia_Semana'].map(lambda x : 1 if x > 4 else 0)\n",
        "#df['Es_DDS'] = df['Dia_Semana'].map(lambda x : 1 if x < 4 else 0)\n",
        "#df['Es_HoraLaborable'] =  df.apply(lambda x : 1 if 9 <= x.Hora <= 16  and  0 <= x.Dia_Semana <=  4 else 0 , axis=1)\n",
        "#df['Es_HoraNoLaborable'] = df.apply(lambda x : 1 if ((not  9 <= x.Hora <= 16 and  0 <=  x.Dia_Semana <=  4) or  (5 <=  x.Dia_Semana <=  6)) else 0 , axis=1)\n",
        "#df['Es_Dia'] = df['Hora'].map(lambda x : 1 if  6 <= x <= 11 else 0)\n",
        "#df['Es_Tarde'] = df['Hora'].map(lambda x : 1 if  12 <= x <= 18 else 0)\n",
        "#df['Es_Noche'] = df['Hora'].map(lambda x : 1 if  19 <= x <= 23 else 0)\n",
        "#df['Es_Madrugada'] = df['Hora'].map(lambda x : 1 if  0 <= x <= 5 else 0)\n",
        "#df['Es_Invierno'] = df['Mes'].map(lambda x : isSeasonY(x,1)) \n",
        "#df['Es_Primavera'] = df['Mes'].map(lambda x : isSeasonY(x,2))\n",
        "#df['Es_Verano'] = df['Mes'].map(lambda x : isSeasonY(x,3))\n",
        "#df['Es_Otoño'] = df['Mes'].map(lambda x : isSeasonY(x,4))\n"
      ],
      "execution_count": 465,
      "outputs": []
    },
    {
      "cell_type": "markdown",
      "metadata": {
        "papermill": {
          "duration": 0.049297,
          "end_time": "2021-02-13T20:41:08.798124",
          "exception": false,
          "start_time": "2021-02-13T20:41:08.748827",
          "status": "completed"
        },
        "tags": [],
        "id": "y5CIv5GxvVYD"
      },
      "source": [
        "Resampling"
      ]
    },
    {
      "cell_type": "markdown",
      "metadata": {
        "id": "-scKxRvQqaPA"
      },
      "source": [
        "Se uso resampling por hora para una evaluación rápida del modelo"
      ]
    },
    {
      "cell_type": "code",
      "metadata": {
        "execution": {
          "iopub.execute_input": "2021-02-13T20:41:08.905174Z",
          "iopub.status.busy": "2021-02-13T20:41:08.904387Z",
          "iopub.status.idle": "2021-02-13T20:41:08.962873Z",
          "shell.execute_reply": "2021-02-13T20:41:08.963367Z"
        },
        "papermill": {
          "duration": 0.113981,
          "end_time": "2021-02-13T20:41:08.963520",
          "exception": false,
          "start_time": "2021-02-13T20:41:08.849539",
          "status": "completed"
        },
        "tags": [],
        "id": "h2BzZ68rvVYF"
      },
      "source": [
        "#df_resample = df.resample('h').mean() \n",
        "df_resample = df"
      ],
      "execution_count": 466,
      "outputs": []
    },
    {
      "cell_type": "code",
      "metadata": {
        "colab": {
          "base_uri": "https://localhost:8080/",
          "height": 640
        },
        "id": "iErWPTTBRxW1",
        "outputId": "0b982ca1-cb55-4d32-db42-23c9b63450e3"
      },
      "source": [
        "df_resample"
      ],
      "execution_count": 282,
      "outputs": [
        {
          "output_type": "execute_result",
          "data": {
            "text/html": [
              "<div>\n",
              "<style scoped>\n",
              "    .dataframe tbody tr th:only-of-type {\n",
              "        vertical-align: middle;\n",
              "    }\n",
              "\n",
              "    .dataframe tbody tr th {\n",
              "        vertical-align: top;\n",
              "    }\n",
              "\n",
              "    .dataframe thead th {\n",
              "        text-align: right;\n",
              "    }\n",
              "</style>\n",
              "<table border=\"1\" class=\"dataframe\">\n",
              "  <thead>\n",
              "    <tr style=\"text-align: right;\">\n",
              "      <th></th>\n",
              "      <th>Consumo_Energia_Global_kw</th>\n",
              "      <th>Consumo_Energia_Reactiva_kw</th>\n",
              "      <th>Intensidad_global_ampere</th>\n",
              "      <th>Consumo_Energia_Area_2_calidad_watt_hora</th>\n",
              "      <th>Consumo_Energia_Area_1_administrativo_watt_hora</th>\n",
              "      <th>Consumo_Energia_Area_3_productivo_watt_hora</th>\n",
              "      <th>Potencia-cosphi</th>\n",
              "    </tr>\n",
              "    <tr>\n",
              "      <th>Fecha_Registro</th>\n",
              "      <th></th>\n",
              "      <th></th>\n",
              "      <th></th>\n",
              "      <th></th>\n",
              "      <th></th>\n",
              "      <th></th>\n",
              "      <th></th>\n",
              "    </tr>\n",
              "  </thead>\n",
              "  <tbody>\n",
              "    <tr>\n",
              "      <th>2015-12-16 17:24:00</th>\n",
              "      <td>4.216</td>\n",
              "      <td>0.418</td>\n",
              "      <td>18.4</td>\n",
              "      <td>1.0</td>\n",
              "      <td>0.0</td>\n",
              "      <td>17.0</td>\n",
              "      <td>4.300791</td>\n",
              "    </tr>\n",
              "    <tr>\n",
              "      <th>2015-12-16 17:25:00</th>\n",
              "      <td>5.360</td>\n",
              "      <td>0.436</td>\n",
              "      <td>23.0</td>\n",
              "      <td>1.0</td>\n",
              "      <td>0.0</td>\n",
              "      <td>16.0</td>\n",
              "      <td>5.355772</td>\n",
              "    </tr>\n",
              "    <tr>\n",
              "      <th>2015-12-16 17:26:00</th>\n",
              "      <td>5.374</td>\n",
              "      <td>0.498</td>\n",
              "      <td>23.0</td>\n",
              "      <td>2.0</td>\n",
              "      <td>0.0</td>\n",
              "      <td>17.0</td>\n",
              "      <td>5.342510</td>\n",
              "    </tr>\n",
              "    <tr>\n",
              "      <th>2015-12-16 17:27:00</th>\n",
              "      <td>5.388</td>\n",
              "      <td>0.502</td>\n",
              "      <td>23.0</td>\n",
              "      <td>1.0</td>\n",
              "      <td>0.0</td>\n",
              "      <td>17.0</td>\n",
              "      <td>5.352531</td>\n",
              "    </tr>\n",
              "    <tr>\n",
              "      <th>2015-12-16 17:28:00</th>\n",
              "      <td>3.666</td>\n",
              "      <td>0.528</td>\n",
              "      <td>15.8</td>\n",
              "      <td>1.0</td>\n",
              "      <td>0.0</td>\n",
              "      <td>17.0</td>\n",
              "      <td>3.686121</td>\n",
              "    </tr>\n",
              "    <tr>\n",
              "      <th>...</th>\n",
              "      <td>...</td>\n",
              "      <td>...</td>\n",
              "      <td>...</td>\n",
              "      <td>...</td>\n",
              "      <td>...</td>\n",
              "      <td>...</td>\n",
              "      <td>...</td>\n",
              "    </tr>\n",
              "    <tr>\n",
              "      <th>2019-09-18 10:19:00</th>\n",
              "      <td>0.582</td>\n",
              "      <td>0.248</td>\n",
              "      <td>2.6</td>\n",
              "      <td>2.0</td>\n",
              "      <td>0.0</td>\n",
              "      <td>0.0</td>\n",
              "      <td>0.571326</td>\n",
              "    </tr>\n",
              "    <tr>\n",
              "      <th>2019-09-18 10:20:00</th>\n",
              "      <td>0.576</td>\n",
              "      <td>0.248</td>\n",
              "      <td>2.6</td>\n",
              "      <td>1.0</td>\n",
              "      <td>0.0</td>\n",
              "      <td>1.0</td>\n",
              "      <td>0.570844</td>\n",
              "    </tr>\n",
              "    <tr>\n",
              "      <th>2019-09-18 10:21:00</th>\n",
              "      <td>0.576</td>\n",
              "      <td>0.248</td>\n",
              "      <td>2.6</td>\n",
              "      <td>1.0</td>\n",
              "      <td>0.0</td>\n",
              "      <td>1.0</td>\n",
              "      <td>0.571439</td>\n",
              "    </tr>\n",
              "    <tr>\n",
              "      <th>2019-09-18 10:22:00</th>\n",
              "      <td>0.574</td>\n",
              "      <td>0.250</td>\n",
              "      <td>2.6</td>\n",
              "      <td>1.0</td>\n",
              "      <td>0.0</td>\n",
              "      <td>0.0</td>\n",
              "      <td>0.570766</td>\n",
              "    </tr>\n",
              "    <tr>\n",
              "      <th>2019-09-18 10:23:00</th>\n",
              "      <td>0.570</td>\n",
              "      <td>0.248</td>\n",
              "      <td>2.6</td>\n",
              "      <td>1.0</td>\n",
              "      <td>0.0</td>\n",
              "      <td>1.0</td>\n",
              "      <td>0.570674</td>\n",
              "    </tr>\n",
              "  </tbody>\n",
              "</table>\n",
              "<p>1976700 rows × 7 columns</p>\n",
              "</div>"
            ],
            "text/plain": [
              "                     Consumo_Energia_Global_kw  ...  Potencia-cosphi\n",
              "Fecha_Registro                                  ...                 \n",
              "2015-12-16 17:24:00                      4.216  ...         4.300791\n",
              "2015-12-16 17:25:00                      5.360  ...         5.355772\n",
              "2015-12-16 17:26:00                      5.374  ...         5.342510\n",
              "2015-12-16 17:27:00                      5.388  ...         5.352531\n",
              "2015-12-16 17:28:00                      3.666  ...         3.686121\n",
              "...                                        ...  ...              ...\n",
              "2019-09-18 10:19:00                      0.582  ...         0.571326\n",
              "2019-09-18 10:20:00                      0.576  ...         0.570844\n",
              "2019-09-18 10:21:00                      0.576  ...         0.571439\n",
              "2019-09-18 10:22:00                      0.574  ...         0.570766\n",
              "2019-09-18 10:23:00                      0.570  ...         0.570674\n",
              "\n",
              "[1976700 rows x 7 columns]"
            ]
          },
          "metadata": {
            "tags": []
          },
          "execution_count": 282
        }
      ]
    },
    {
      "cell_type": "markdown",
      "metadata": {
        "papermill": {
          "duration": 0.050358,
          "end_time": "2021-02-13T20:41:09.065848",
          "exception": false,
          "start_time": "2021-02-13T20:41:09.015490",
          "status": "completed"
        },
        "tags": [],
        "id": "nlvZc5jOvVYG"
      },
      "source": [
        ""
      ]
    },
    {
      "cell_type": "code",
      "metadata": {
        "id": "FaJWXwHR-_P-"
      },
      "source": [
        "del df_resample['Voltaje_vol']"
      ],
      "execution_count": 467,
      "outputs": []
    },
    {
      "cell_type": "markdown",
      "metadata": {
        "id": "Grap6mdnq6e6"
      },
      "source": [
        "Training set de 800000 registros"
      ]
    },
    {
      "cell_type": "code",
      "metadata": {
        "colab": {
          "base_uri": "https://localhost:8080/",
          "height": 623
        },
        "id": "OlrkeKcdKZmL",
        "outputId": "7f577be8-fd10-432d-9c93-dbfccda88d97"
      },
      "source": [
        "df_resample"
      ],
      "execution_count": 213,
      "outputs": [
        {
          "output_type": "execute_result",
          "data": {
            "text/html": [
              "<div>\n",
              "<style scoped>\n",
              "    .dataframe tbody tr th:only-of-type {\n",
              "        vertical-align: middle;\n",
              "    }\n",
              "\n",
              "    .dataframe tbody tr th {\n",
              "        vertical-align: top;\n",
              "    }\n",
              "\n",
              "    .dataframe thead th {\n",
              "        text-align: right;\n",
              "    }\n",
              "</style>\n",
              "<table border=\"1\" class=\"dataframe\">\n",
              "  <thead>\n",
              "    <tr style=\"text-align: right;\">\n",
              "      <th></th>\n",
              "      <th>Consumo_Energia_Global_kw</th>\n",
              "      <th>Consumo_Energia_Reactiva_kw</th>\n",
              "      <th>Voltaje_vol</th>\n",
              "      <th>Intensidad_global_ampere</th>\n",
              "      <th>Consumo_Energia_Area_2_calidad_watt_hora</th>\n",
              "      <th>Consumo_Energia_Area_1_administrativo_watt_hora</th>\n",
              "      <th>Consumo_Energia_Area_3_productivo_watt_hora</th>\n",
              "    </tr>\n",
              "    <tr>\n",
              "      <th>Fecha_Registro</th>\n",
              "      <th></th>\n",
              "      <th></th>\n",
              "      <th></th>\n",
              "      <th></th>\n",
              "      <th></th>\n",
              "      <th></th>\n",
              "      <th></th>\n",
              "    </tr>\n",
              "  </thead>\n",
              "  <tbody>\n",
              "    <tr>\n",
              "      <th>2015-12-16 17:00:00</th>\n",
              "      <td>4.222889</td>\n",
              "      <td>0.229000</td>\n",
              "      <td>234.643889</td>\n",
              "      <td>18.100000</td>\n",
              "      <td>0.527778</td>\n",
              "      <td>0.0</td>\n",
              "      <td>16.861111</td>\n",
              "    </tr>\n",
              "    <tr>\n",
              "      <th>2015-12-16 18:00:00</th>\n",
              "      <td>3.632200</td>\n",
              "      <td>0.080033</td>\n",
              "      <td>234.580167</td>\n",
              "      <td>15.600000</td>\n",
              "      <td>6.716667</td>\n",
              "      <td>0.0</td>\n",
              "      <td>16.866667</td>\n",
              "    </tr>\n",
              "    <tr>\n",
              "      <th>2015-12-16 19:00:00</th>\n",
              "      <td>3.400233</td>\n",
              "      <td>0.085233</td>\n",
              "      <td>233.232500</td>\n",
              "      <td>14.503333</td>\n",
              "      <td>1.433333</td>\n",
              "      <td>0.0</td>\n",
              "      <td>16.683333</td>\n",
              "    </tr>\n",
              "    <tr>\n",
              "      <th>2015-12-16 20:00:00</th>\n",
              "      <td>3.268567</td>\n",
              "      <td>0.075100</td>\n",
              "      <td>234.071500</td>\n",
              "      <td>13.916667</td>\n",
              "      <td>0.000000</td>\n",
              "      <td>0.0</td>\n",
              "      <td>16.783333</td>\n",
              "    </tr>\n",
              "    <tr>\n",
              "      <th>2015-12-16 21:00:00</th>\n",
              "      <td>3.056467</td>\n",
              "      <td>0.076667</td>\n",
              "      <td>237.158667</td>\n",
              "      <td>13.046667</td>\n",
              "      <td>0.416667</td>\n",
              "      <td>0.0</td>\n",
              "      <td>17.216667</td>\n",
              "    </tr>\n",
              "    <tr>\n",
              "      <th>...</th>\n",
              "      <td>...</td>\n",
              "      <td>...</td>\n",
              "      <td>...</td>\n",
              "      <td>...</td>\n",
              "      <td>...</td>\n",
              "      <td>...</td>\n",
              "      <td>...</td>\n",
              "    </tr>\n",
              "    <tr>\n",
              "      <th>2019-09-18 06:00:00</th>\n",
              "      <td>0.610867</td>\n",
              "      <td>0.086400</td>\n",
              "      <td>241.245833</td>\n",
              "      <td>2.566667</td>\n",
              "      <td>0.000000</td>\n",
              "      <td>0.0</td>\n",
              "      <td>6.350000</td>\n",
              "    </tr>\n",
              "    <tr>\n",
              "      <th>2019-09-18 07:00:00</th>\n",
              "      <td>1.804000</td>\n",
              "      <td>0.070933</td>\n",
              "      <td>240.184500</td>\n",
              "      <td>7.520000</td>\n",
              "      <td>0.000000</td>\n",
              "      <td>0.0</td>\n",
              "      <td>19.300000</td>\n",
              "    </tr>\n",
              "    <tr>\n",
              "      <th>2019-09-18 08:00:00</th>\n",
              "      <td>1.378600</td>\n",
              "      <td>0.124500</td>\n",
              "      <td>239.872333</td>\n",
              "      <td>5.703333</td>\n",
              "      <td>0.550000</td>\n",
              "      <td>0.0</td>\n",
              "      <td>19.150000</td>\n",
              "    </tr>\n",
              "    <tr>\n",
              "      <th>2019-09-18 09:00:00</th>\n",
              "      <td>0.828700</td>\n",
              "      <td>0.194467</td>\n",
              "      <td>240.494500</td>\n",
              "      <td>3.576667</td>\n",
              "      <td>1.183333</td>\n",
              "      <td>0.0</td>\n",
              "      <td>6.816667</td>\n",
              "    </tr>\n",
              "    <tr>\n",
              "      <th>2019-09-18 10:00:00</th>\n",
              "      <td>0.460000</td>\n",
              "      <td>0.076083</td>\n",
              "      <td>239.362917</td>\n",
              "      <td>2.033333</td>\n",
              "      <td>1.125000</td>\n",
              "      <td>0.0</td>\n",
              "      <td>0.625000</td>\n",
              "    </tr>\n",
              "  </tbody>\n",
              "</table>\n",
              "<p>32922 rows × 7 columns</p>\n",
              "</div>"
            ],
            "text/plain": [
              "                     Consumo_Energia_Global_kw  ...  Consumo_Energia_Area_3_productivo_watt_hora\n",
              "Fecha_Registro                                  ...                                             \n",
              "2015-12-16 17:00:00                   4.222889  ...                                    16.861111\n",
              "2015-12-16 18:00:00                   3.632200  ...                                    16.866667\n",
              "2015-12-16 19:00:00                   3.400233  ...                                    16.683333\n",
              "2015-12-16 20:00:00                   3.268567  ...                                    16.783333\n",
              "2015-12-16 21:00:00                   3.056467  ...                                    17.216667\n",
              "...                                        ...  ...                                          ...\n",
              "2019-09-18 06:00:00                   0.610867  ...                                     6.350000\n",
              "2019-09-18 07:00:00                   1.804000  ...                                    19.300000\n",
              "2019-09-18 08:00:00                   1.378600  ...                                    19.150000\n",
              "2019-09-18 09:00:00                   0.828700  ...                                     6.816667\n",
              "2019-09-18 10:00:00                   0.460000  ...                                     0.625000\n",
              "\n",
              "[32922 rows x 7 columns]"
            ]
          },
          "metadata": {
            "tags": []
          },
          "execution_count": 213
        }
      ]
    },
    {
      "cell_type": "code",
      "metadata": {
        "colab": {
          "base_uri": "https://localhost:8080/"
        },
        "id": "mE__glY0Kehe",
        "outputId": "7ecff69f-9176-4565-d63c-fdab8ece0247"
      },
      "source": [
        "test[:, 1:].shape"
      ],
      "execution_count": 215,
      "outputs": [
        {
          "output_type": "execute_result",
          "data": {
            "text/plain": [
              "(12555, 8)"
            ]
          },
          "metadata": {
            "tags": []
          },
          "execution_count": 215
        }
      ]
    },
    {
      "cell_type": "code",
      "metadata": {
        "colab": {
          "base_uri": "https://localhost:8080/"
        },
        "id": "1idHgBVxKx4V",
        "outputId": "44a52612-2294-463d-c6e0-1337e2ab1dd5"
      },
      "source": [
        "scaled.shape, reframed.shape"
      ],
      "execution_count": 221,
      "outputs": [
        {
          "output_type": "execute_result",
          "data": {
            "text/plain": [
              "((32922, 7), (32555, 9))"
            ]
          },
          "metadata": {
            "tags": []
          },
          "execution_count": 221
        }
      ]
    },
    {
      "cell_type": "code",
      "metadata": {
        "execution": {
          "iopub.execute_input": "2021-02-13T20:41:09.179384Z",
          "iopub.status.busy": "2021-02-13T20:41:09.178699Z",
          "iopub.status.idle": "2021-02-13T20:41:09.288307Z",
          "shell.execute_reply": "2021-02-13T20:41:09.287642Z"
        },
        "papermill": {
          "duration": 0.172972,
          "end_time": "2021-02-13T20:41:09.288445",
          "exception": false,
          "start_time": "2021-02-13T20:41:09.115473",
          "status": "completed"
        },
        "tags": [],
        "id": "wyGy4MSdvVYH",
        "colab": {
          "base_uri": "https://localhost:8080/"
        },
        "outputId": "b7200b67-5812-4790-bd0e-90de7d31a1df"
      },
      "source": [
        "from sklearn.preprocessing import MinMaxScaler\n",
        "\n",
        "values = df_resample.values\n",
        "scaler = MinMaxScaler(feature_range=(0, 1))\n",
        "print(values.shape)\n",
        "scaled = scaler.fit_transform(values)\n",
        "#reframed = series_to_supervised(scaled, 1, 1)\n",
        "#r = list(range(df_resample.shape[1]+1, 2*df_resample.shape[1]))\n",
        "#reframed.drop(reframed.columns[r], axis=1, inplace=True)\n",
        "\n",
        "values = scaled#reframed.values\n",
        "n_train_time = 1600000\n",
        "train = values[:n_train_time, :]\n",
        "test = values[n_train_time:, :]\n",
        "train_x, train_y = train[:, 1:], train[:, 0]\n",
        "test_x, test_y = test[:, 1:], test[:, 0]\n",
        "train_x = train_x.reshape((train_x.shape[0], 1, train_x.shape[1]))\n",
        "test_x = test_x.reshape((test_x.shape[0], 1, test_x.shape[1]))\n",
        "\n"
      ],
      "execution_count": 494,
      "outputs": [
        {
          "output_type": "stream",
          "text": [
            "(1976700, 8)\n"
          ],
          "name": "stdout"
        }
      ]
    },
    {
      "cell_type": "code",
      "metadata": {
        "colab": {
          "base_uri": "https://localhost:8080/",
          "height": 406
        },
        "id": "mPa_hJWdLNnX",
        "outputId": "17607040-d5ab-4c4c-fbe6-62edaf8939b9"
      },
      "source": [
        "pd.DataFrame(train)"
      ],
      "execution_count": 227,
      "outputs": [
        {
          "output_type": "execute_result",
          "data": {
            "text/html": [
              "<div>\n",
              "<style scoped>\n",
              "    .dataframe tbody tr th:only-of-type {\n",
              "        vertical-align: middle;\n",
              "    }\n",
              "\n",
              "    .dataframe tbody tr th {\n",
              "        vertical-align: top;\n",
              "    }\n",
              "\n",
              "    .dataframe thead th {\n",
              "        text-align: right;\n",
              "    }\n",
              "</style>\n",
              "<table border=\"1\" class=\"dataframe\">\n",
              "  <thead>\n",
              "    <tr style=\"text-align: right;\">\n",
              "      <th></th>\n",
              "      <th>0</th>\n",
              "      <th>1</th>\n",
              "      <th>2</th>\n",
              "      <th>3</th>\n",
              "      <th>4</th>\n",
              "      <th>5</th>\n",
              "      <th>6</th>\n",
              "    </tr>\n",
              "  </thead>\n",
              "  <tbody>\n",
              "    <tr>\n",
              "      <th>0</th>\n",
              "      <td>0.636816</td>\n",
              "      <td>0.295738</td>\n",
              "      <td>0.337945</td>\n",
              "      <td>0.631157</td>\n",
              "      <td>0.011366</td>\n",
              "      <td>0.000000</td>\n",
              "      <td>0.808686</td>\n",
              "    </tr>\n",
              "    <tr>\n",
              "      <th>1</th>\n",
              "      <td>0.545045</td>\n",
              "      <td>0.103358</td>\n",
              "      <td>0.335501</td>\n",
              "      <td>0.541487</td>\n",
              "      <td>0.144652</td>\n",
              "      <td>0.000000</td>\n",
              "      <td>0.808953</td>\n",
              "    </tr>\n",
              "    <tr>\n",
              "      <th>2</th>\n",
              "      <td>0.509006</td>\n",
              "      <td>0.110073</td>\n",
              "      <td>0.283802</td>\n",
              "      <td>0.502152</td>\n",
              "      <td>0.030869</td>\n",
              "      <td>0.000000</td>\n",
              "      <td>0.800160</td>\n",
              "    </tr>\n",
              "    <tr>\n",
              "      <th>3</th>\n",
              "      <td>0.488550</td>\n",
              "      <td>0.096987</td>\n",
              "      <td>0.315987</td>\n",
              "      <td>0.481110</td>\n",
              "      <td>0.000000</td>\n",
              "      <td>0.000000</td>\n",
              "      <td>0.804956</td>\n",
              "    </tr>\n",
              "    <tr>\n",
              "      <th>4</th>\n",
              "      <td>0.455597</td>\n",
              "      <td>0.099010</td>\n",
              "      <td>0.434417</td>\n",
              "      <td>0.449904</td>\n",
              "      <td>0.008973</td>\n",
              "      <td>0.000000</td>\n",
              "      <td>0.825739</td>\n",
              "    </tr>\n",
              "    <tr>\n",
              "      <th>...</th>\n",
              "      <td>...</td>\n",
              "      <td>...</td>\n",
              "      <td>...</td>\n",
              "      <td>...</td>\n",
              "      <td>...</td>\n",
              "      <td>...</td>\n",
              "      <td>...</td>\n",
              "    </tr>\n",
              "    <tr>\n",
              "      <th>19995</th>\n",
              "      <td>0.326801</td>\n",
              "      <td>0.441972</td>\n",
              "      <td>0.660618</td>\n",
              "      <td>0.316356</td>\n",
              "      <td>0.010768</td>\n",
              "      <td>0.000000</td>\n",
              "      <td>0.167066</td>\n",
              "    </tr>\n",
              "    <tr>\n",
              "      <th>19996</th>\n",
              "      <td>0.214127</td>\n",
              "      <td>0.114938</td>\n",
              "      <td>0.584956</td>\n",
              "      <td>0.205285</td>\n",
              "      <td>0.000000</td>\n",
              "      <td>0.000000</td>\n",
              "      <td>0.000000</td>\n",
              "    </tr>\n",
              "    <tr>\n",
              "      <th>19997</th>\n",
              "      <td>0.351380</td>\n",
              "      <td>0.116487</td>\n",
              "      <td>0.587961</td>\n",
              "      <td>0.336203</td>\n",
              "      <td>0.011486</td>\n",
              "      <td>0.000000</td>\n",
              "      <td>0.000000</td>\n",
              "    </tr>\n",
              "    <tr>\n",
              "      <th>19998</th>\n",
              "      <td>0.444629</td>\n",
              "      <td>0.140551</td>\n",
              "      <td>0.645894</td>\n",
              "      <td>0.423840</td>\n",
              "      <td>0.000000</td>\n",
              "      <td>0.150930</td>\n",
              "      <td>0.626699</td>\n",
              "    </tr>\n",
              "    <tr>\n",
              "      <th>19999</th>\n",
              "      <td>0.226110</td>\n",
              "      <td>0.174430</td>\n",
              "      <td>0.721102</td>\n",
              "      <td>0.214730</td>\n",
              "      <td>0.002513</td>\n",
              "      <td>0.125431</td>\n",
              "      <td>0.000000</td>\n",
              "    </tr>\n",
              "  </tbody>\n",
              "</table>\n",
              "<p>20000 rows × 7 columns</p>\n",
              "</div>"
            ],
            "text/plain": [
              "              0         1         2         3         4         5         6\n",
              "0      0.636816  0.295738  0.337945  0.631157  0.011366  0.000000  0.808686\n",
              "1      0.545045  0.103358  0.335501  0.541487  0.144652  0.000000  0.808953\n",
              "2      0.509006  0.110073  0.283802  0.502152  0.030869  0.000000  0.800160\n",
              "3      0.488550  0.096987  0.315987  0.481110  0.000000  0.000000  0.804956\n",
              "4      0.455597  0.099010  0.434417  0.449904  0.008973  0.000000  0.825739\n",
              "...         ...       ...       ...       ...       ...       ...       ...\n",
              "19995  0.326801  0.441972  0.660618  0.316356  0.010768  0.000000  0.167066\n",
              "19996  0.214127  0.114938  0.584956  0.205285  0.000000  0.000000  0.000000\n",
              "19997  0.351380  0.116487  0.587961  0.336203  0.011486  0.000000  0.000000\n",
              "19998  0.444629  0.140551  0.645894  0.423840  0.000000  0.150930  0.626699\n",
              "19999  0.226110  0.174430  0.721102  0.214730  0.002513  0.125431  0.000000\n",
              "\n",
              "[20000 rows x 7 columns]"
            ]
          },
          "metadata": {
            "tags": []
          },
          "execution_count": 227
        }
      ]
    },
    {
      "cell_type": "markdown",
      "metadata": {
        "papermill": {
          "duration": 0.049949,
          "end_time": "2021-02-13T20:41:09.389045",
          "exception": false,
          "start_time": "2021-02-13T20:41:09.339096",
          "status": "completed"
        },
        "tags": [],
        "id": "t3c_M1ROvVYJ"
      },
      "source": [
        "<h3> Ajustando modelo <h3>"
      ]
    },
    {
      "cell_type": "code",
      "metadata": {
        "id": "1ww5_BFE87hW"
      },
      "source": [
        "#model.add(LSTM(200, return_sequences=False))\n",
        "#model.add(Dropout(0.2))"
      ],
      "execution_count": 66,
      "outputs": []
    },
    {
      "cell_type": "code",
      "metadata": {
        "id": "9-vmCbskcn_0"
      },
      "source": [
        "from keras.layers import LSTM\n",
        "from keras.layers import Dropout\n",
        "from kerastuner.tuners import RandomSearch,BayesianOptimization\n",
        "from tensorflow import keras\n",
        "from tensorflow.keras import layers\n",
        "def build_model(hp):\n",
        "    model = Sequential()\n",
        "    model.add(LSTM(units=hp.Int('units',min_value=32,\n",
        "                                    max_value=512,\n",
        "                                    step=32), \n",
        "            input_shape=(train_x.shape[1], train_x.shape[2]))) #   activation='relu',\n",
        "    model.add(Dropout(0.1))\n",
        "    model.add(Dense(1))\n",
        "    model.compile(loss='mean_squared_error', optimizer=keras.optimizers.Adam( #loss='mse', metrics=['mse']\n",
        "        hp.Choice('learning_rate',\n",
        "                  values=[1e-2, 1e-3, 1e-4])))\n",
        "    return model"
      ],
      "execution_count": 470,
      "outputs": []
    },
    {
      "cell_type": "code",
      "metadata": {
        "id": "QDQxcb8Bc7j_"
      },
      "source": [
        "tuner = RandomSearch(\n",
        "    build_model,\n",
        "    objective='val_loss',\n",
        "    max_trials=5,\n",
        "    executions_per_trial=2,\n",
        "    directory='lstm_test',\n",
        "    project_name='lstmtest')"
      ],
      "execution_count": 492,
      "outputs": []
    },
    {
      "cell_type": "code",
      "metadata": {
        "colab": {
          "base_uri": "https://localhost:8080/"
        },
        "id": "cdqaejKDdMQ7",
        "outputId": "9961c2fa-edf6-445d-fc10-c2037c09cc8e"
      },
      "source": [
        "tuner.search(train_x, train_y,\n",
        "             epochs=10,\n",
        "             batch_size=100,\n",
        "             validation_data=(test_x, test_y))"
      ],
      "execution_count": 495,
      "outputs": [
        {
          "output_type": "stream",
          "text": [
            "Trial 6 Complete [00h 17m 44s]\n",
            "val_loss: 1.0158630175283179e-05\n",
            "\n",
            "Best val_loss So Far: 9.387528280058177e-06\n",
            "Total elapsed time: 01h 29m 56s\n",
            "INFO:tensorflow:Oracle triggered exit\n"
          ],
          "name": "stdout"
        }
      ]
    },
    {
      "cell_type": "code",
      "metadata": {
        "id": "6mD3NNLtnssO"
      },
      "source": [
        "modelr = tuner.get_best_models(num_models=1)"
      ],
      "execution_count": 452,
      "outputs": []
    },
    {
      "cell_type": "code",
      "metadata": {
        "colab": {
          "base_uri": "https://localhost:8080/"
        },
        "id": "P69Riq2InxFV",
        "outputId": "32658341-df18-4620-d8fa-5cfbe9e1a320"
      },
      "source": [
        "modelr[0]"
      ],
      "execution_count": 454,
      "outputs": [
        {
          "output_type": "execute_result",
          "data": {
            "text/plain": [
              "<tensorflow.python.keras.engine.sequential.Sequential at 0x7f31687f6450>"
            ]
          },
          "metadata": {
            "tags": []
          },
          "execution_count": 454
        }
      ]
    },
    {
      "cell_type": "code",
      "metadata": {
        "id": "a6VGq1b-xXXK"
      },
      "source": [
        "!rm -r untitled_project lstm_test"
      ],
      "execution_count": 491,
      "outputs": []
    },
    {
      "cell_type": "code",
      "metadata": {
        "colab": {
          "base_uri": "https://localhost:8080/"
        },
        "id": "lYJZOluJn6eq",
        "outputId": "aa5c4017-17ec-4871-d126-514496c6c5b1"
      },
      "source": [
        "tuner_bo = BayesianOptimization(\n",
        "            build_model,\n",
        "            objective='val_loss', #mse\n",
        "            max_trials=5,\n",
        "            seed=42,\n",
        "            executions_per_trial=2\n",
        "        )\n",
        "tuner_bo.search(train_x, train_y,\n",
        "             epochs=10,\n",
        "             batch_size=100,\n",
        "             validation_data=(test_x, test_y))"
      ],
      "execution_count": 483,
      "outputs": [
        {
          "output_type": "stream",
          "text": [
            "Trial 5 Complete [00h 17m 05s]\n",
            "val_loss: 1.128320764109958e-05\n",
            "\n",
            "Best val_loss So Far: 9.545733973936876e-06\n",
            "Total elapsed time: 01h 39m 45s\n",
            "INFO:tensorflow:Oracle triggered exit\n"
          ],
          "name": "stdout"
        }
      ]
    },
    {
      "cell_type": "code",
      "metadata": {
        "colab": {
          "base_uri": "https://localhost:8080/"
        },
        "id": "lAgPWrR5wGT7",
        "outputId": "18f5b60c-f544-432b-81d8-a6c4b5fa9ade"
      },
      "source": [
        "tuner_bo.results_summary()"
      ],
      "execution_count": 484,
      "outputs": [
        {
          "output_type": "stream",
          "text": [
            "Results summary\n",
            "Results in ./untitled_project\n",
            "Showing 10 best trials\n",
            "Objective(name='val_loss', direction='min')\n",
            "Trial summary\n",
            "Hyperparameters:\n",
            "units: 224\n",
            "learning_rate: 0.001\n",
            "Score: 9.545733973936876e-06\n",
            "Trial summary\n",
            "Hyperparameters:\n",
            "units: 480\n",
            "learning_rate: 0.01\n",
            "Score: 9.697728273749817e-06\n",
            "Trial summary\n",
            "Hyperparameters:\n",
            "units: 352\n",
            "learning_rate: 0.01\n",
            "Score: 1.0048436251963722e-05\n",
            "Trial summary\n",
            "Hyperparameters:\n",
            "units: 32\n",
            "learning_rate: 0.0001\n",
            "Score: 1.128320764109958e-05\n",
            "Trial summary\n",
            "Hyperparameters:\n",
            "units: 32\n",
            "learning_rate: 0.0001\n",
            "Score: 1.1323224498482887e-05\n"
          ],
          "name": "stdout"
        }
      ]
    },
    {
      "cell_type": "code",
      "metadata": {
        "colab": {
          "base_uri": "https://localhost:8080/"
        },
        "id": "F09EJ-mRwNxv",
        "outputId": "8569103a-c827-4405-cc6b-5320283bb92d"
      },
      "source": [
        "model_bo = tuner_bo.get_best_models(num_models=2)[0]"
      ],
      "execution_count": 485,
      "outputs": [
        {
          "output_type": "stream",
          "text": [
            "WARNING:tensorflow:Unresolved object in checkpoint: (root).optimizer.iter\n",
            "WARNING:tensorflow:Unresolved object in checkpoint: (root).optimizer.beta_1\n",
            "WARNING:tensorflow:Unresolved object in checkpoint: (root).optimizer.beta_2\n",
            "WARNING:tensorflow:Unresolved object in checkpoint: (root).optimizer.decay\n",
            "WARNING:tensorflow:Unresolved object in checkpoint: (root).optimizer.learning_rate\n",
            "WARNING:tensorflow:A checkpoint was restored (e.g. tf.train.Checkpoint.restore or tf.keras.Model.load_weights) but not all checkpointed values were used. See above for specific issues. Use expect_partial() on the load status object, e.g. tf.train.Checkpoint.restore(...).expect_partial(), to silence these warnings, or use assert_consumed() to make the check explicit. See https://www.tensorflow.org/guide/checkpoint#loading_mechanics for details.\n"
          ],
          "name": "stdout"
        }
      ]
    },
    {
      "cell_type": "code",
      "metadata": {
        "id": "3aCqz4s7v6rx"
      },
      "source": [
        "model_bo.save('bo_lstm_full.h5')"
      ],
      "execution_count": 489,
      "outputs": []
    },
    {
      "cell_type": "code",
      "metadata": {
        "colab": {
          "base_uri": "https://localhost:8080/"
        },
        "id": "evY6OgyGwgS_",
        "outputId": "86ab084a-1799-4e2d-acca-2785f5dfb496"
      },
      "source": [
        "model_rs = tuner.get_best_models(num_models=2)[0]\n",
        "model_rs.save('rs_lstm.h5')"
      ],
      "execution_count": 459,
      "outputs": [
        {
          "output_type": "stream",
          "text": [
            "WARNING:tensorflow:Unresolved object in checkpoint: (root).optimizer.iter\n",
            "WARNING:tensorflow:Unresolved object in checkpoint: (root).optimizer.beta_1\n",
            "WARNING:tensorflow:Unresolved object in checkpoint: (root).optimizer.beta_2\n",
            "WARNING:tensorflow:Unresolved object in checkpoint: (root).optimizer.decay\n",
            "WARNING:tensorflow:Unresolved object in checkpoint: (root).optimizer.learning_rate\n",
            "WARNING:tensorflow:A checkpoint was restored (e.g. tf.train.Checkpoint.restore or tf.keras.Model.load_weights) but not all checkpointed values were used. See above for specific issues. Use expect_partial() on the load status object, e.g. tf.train.Checkpoint.restore(...).expect_partial(), to silence these warnings, or use assert_consumed() to make the check explicit. See https://www.tensorflow.org/guide/checkpoint#loading_mechanics for details.\n"
          ],
          "name": "stdout"
        }
      ]
    },
    {
      "cell_type": "code",
      "metadata": {
        "_kg_hide-input": true,
        "_kg_hide-output": true,
        "execution": {
          "iopub.execute_input": "2021-02-13T20:41:09.606916Z",
          "iopub.status.busy": "2021-02-13T20:41:09.606176Z",
          "iopub.status.idle": "2021-02-13T20:41:53.065453Z",
          "shell.execute_reply": "2021-02-13T20:41:53.064912Z"
        },
        "papermill": {
          "duration": 43.526712,
          "end_time": "2021-02-13T20:41:53.065575",
          "exception": false,
          "start_time": "2021-02-13T20:41:09.538863",
          "status": "completed"
        },
        "tags": [],
        "colab": {
          "base_uri": "https://localhost:8080/",
          "height": 685
        },
        "id": "7Yr2qpU6vVYK",
        "outputId": "3846f9ff-09ed-4d14-a6ca-d5bd68897012"
      },
      "source": [
        "iG2L6K8I6f\n",
        "from keras.models import Sequential\n",
        "from keras.layers import LSTM\n",
        "from keras.layers import Dropout\n",
        "from keras.layers import Dense\n",
        "from sklearn.metrics import mean_squared_error,r2_score\n",
        "import matplotlib.pyplot as plt\n",
        "import numpy as np\n",
        "from keras import optimizers\n",
        "from keras.optimizers import Adam\n",
        "\n",
        "\n",
        "\n",
        "model = Sequential()\n",
        "model.add(LSTM(64, input_shape=(train_x.shape[1], train_x.shape[2])))\n",
        "model.add(Dropout(0.1))\n",
        "model.add(Dense(1))\n",
        "myadam = Adam(learning_rate=0.01) \n",
        "model.compile(loss='mean_squared_error', optimizer=myadam)\n",
        "\n",
        "# Network fitting\n",
        "#history = model.fit(train_x, train_y, epochs=10, batch_size=70, validation_data=(test_x, test_y), verbose=2, shuffle=False)\n",
        "history = model.fit(train_x, train_y, epochs=10, batch_size=70,  validation_data=(test_x, test_y), verbose=2, shuffle=False)\n",
        "\n",
        "print(history.history.keys())\n",
        "# Loss history plot\n",
        "plt.plot(history.history['loss'])\n",
        "plt.plot(history.history['val_loss'])\n",
        "plt.title('model loss')\n",
        "plt.ylabel('loss')\n",
        "plt.xlabel('epoch')\n",
        "plt.legend(['train', 'test'], loc='upper right')\n",
        "plt.show()\n",
        "\n",
        "size = df_resample.shape[1]  -1\n",
        "# Prediction test\n",
        "yhat = model_bo.predict(test_x)\n",
        "test_x = test_x.reshape((test_x.shape[0], size))\n",
        "\n",
        "# invert scaling for prediction\n",
        "inv_yhat = np.concatenate((yhat, test_x[:, -size:]), axis=1)\n",
        "inv_yhat = scaler.inverse_transform(inv_yhat)\n",
        "inv_yhat = inv_yhat[:,0]\n",
        "\n",
        "# invert scaling for actual\n",
        "test_y = test_y.reshape((len(test_y), 1))\n",
        "inv_y = np.concatenate((test_y, test_x[:, -size:]), axis=1)\n",
        "inv_y = scaler.inverse_transform(inv_y)\n",
        "inv_y = inv_y[:,0]\n",
        "\n",
        "# calculate RMSE\n",
        "rmse = np.sqrt(mean_squared_error(inv_y, inv_yhat))\n",
        "print('Test RMSE: %.3f' % rmse)\n"
      ],
      "execution_count": 435,
      "outputs": [
        {
          "output_type": "stream",
          "text": [
            "Epoch 1/10\n",
            "286/286 - 3s - loss: 0.0020 - val_loss: 1.0333e-05\n",
            "Epoch 2/10\n",
            "286/286 - 1s - loss: 1.1857e-04 - val_loss: 1.4605e-05\n",
            "Epoch 3/10\n",
            "286/286 - 1s - loss: 9.4251e-05 - val_loss: 2.0328e-05\n",
            "Epoch 4/10\n",
            "286/286 - 1s - loss: 8.6972e-05 - val_loss: 1.9566e-05\n",
            "Epoch 5/10\n",
            "286/286 - 1s - loss: 7.7511e-05 - val_loss: 9.1960e-06\n",
            "Epoch 6/10\n",
            "286/286 - 1s - loss: 7.3478e-05 - val_loss: 2.2926e-05\n",
            "Epoch 7/10\n",
            "286/286 - 1s - loss: 7.1299e-05 - val_loss: 2.8503e-05\n",
            "Epoch 8/10\n",
            "286/286 - 1s - loss: 7.7075e-05 - val_loss: 2.8760e-05\n",
            "Epoch 9/10\n",
            "286/286 - 1s - loss: 7.3176e-05 - val_loss: 1.0176e-05\n",
            "Epoch 10/10\n",
            "286/286 - 1s - loss: 6.4234e-05 - val_loss: 1.1027e-05\n",
            "dict_keys(['loss', 'val_loss'])\n"
          ],
          "name": "stdout"
        },
        {
          "output_type": "display_data",
          "data": {
            "image/png": "[encoded data removed]",
            "text/plain": [
              "<Figure size 432x288 with 1 Axes>"
            ]
          },
          "metadata": {
            "tags": [],
            "needs_background": "light"
          }
        },
        {
          "output_type": "stream",
          "text": [
            "Test RMSE: 0.021\n"
          ],
          "name": "stdout"
        }
      ]
    },
    {
      "cell_type": "code",
      "metadata": {
        "colab": {
          "base_uri": "https://localhost:8080/"
        },
        "id": "xkJGq5aLD-8T",
        "outputId": "9f1a6e46-ac67-4ec8-d0cd-8af7bf1e8c5a"
      },
      "source": [
        "\n",
        "size = df_resample.shape[1]  -1\n",
        "# Prediction test\n",
        "yhat = model_bo.predict(test_x)\n",
        "test_x = test_x.reshape((test_x.shape[0], size))\n",
        "\n",
        "# invert scaling for prediction\n",
        "inv_yhat = np.concatenate((yhat, test_x[:, -size:]), axis=1)\n",
        "inv_yhat = scaler.inverse_transform(inv_yhat)\n",
        "inv_yhat = inv_yhat[:,0]\n",
        "\n",
        "# invert scaling for actual\n",
        "test_y = test_y.reshape((len(test_y), 1))\n",
        "inv_y = np.concatenate((test_y, test_x[:, -size:]), axis=1)\n",
        "inv_y = scaler.inverse_transform(inv_y)\n",
        "inv_y = inv_y[:,0]\n",
        "\n",
        "# calculate RMSE\n",
        "rmse = np.sqrt(mean_squared_error(inv_y, inv_yhat))\n",
        "print('Test RMSE: %.3f' % rmse)"
      ],
      "execution_count": 486,
      "outputs": [
        {
          "output_type": "stream",
          "text": [
            "Test RMSE: 0.034\n"
          ],
          "name": "stdout"
        }
      ]
    },
    {
      "cell_type": "code",
      "metadata": {
        "colab": {
          "base_uri": "https://localhost:8080/"
        },
        "id": "9marKfHaKCjU",
        "outputId": "5bb2acc4-1673-490e-b6a3-a52ea6542061"
      },
      "source": [
        "test_x.shape"
      ],
      "execution_count": 212,
      "outputs": [
        {
          "output_type": "execute_result",
          "data": {
            "text/plain": [
              "(12555, 1, 8)"
            ]
          },
          "metadata": {
            "tags": []
          },
          "execution_count": 212
        }
      ]
    },
    {
      "cell_type": "code",
      "metadata": {
        "colab": {
          "base_uri": "https://localhost:8080/",
          "height": 167
        },
        "id": "2wTio7UHJ_76",
        "outputId": "5fd4e277-4476-4b2b-e460-dba63f6438f1"
      },
      "source": [
        "test_x.reshape((test_x.shape[0], size))"
      ],
      "execution_count": 206,
      "outputs": [
        {
          "output_type": "error",
          "ename": "ValueError",
          "evalue": "ignored",
          "traceback": [
            "\u001b[0;31m---------------------------------------------------------------------------\u001b[0m",
            "\u001b[0;31mValueError\u001b[0m                                Traceback (most recent call last)",
            "\u001b[0;32m<ipython-input-206-d46091692067>\u001b[0m in \u001b[0;36m<module>\u001b[0;34m()\u001b[0m\n\u001b[0;32m----> 1\u001b[0;31m \u001b[0mtest_x\u001b[0m\u001b[0;34m.\u001b[0m\u001b[0mreshape\u001b[0m\u001b[0;34m(\u001b[0m\u001b[0;34m(\u001b[0m\u001b[0mtest_x\u001b[0m\u001b[0;34m.\u001b[0m\u001b[0mshape\u001b[0m\u001b[0;34m[\u001b[0m\u001b[0;36m0\u001b[0m\u001b[0;34m]\u001b[0m\u001b[0;34m,\u001b[0m \u001b[0msize\u001b[0m\u001b[0;34m)\u001b[0m\u001b[0;34m)\u001b[0m\u001b[0;34m\u001b[0m\u001b[0;34m\u001b[0m\u001b[0m\n\u001b[0m",
            "\u001b[0;31mValueError\u001b[0m: cannot reshape array of size 100440 into shape (12555,6)"
          ]
        }
      ]
    },
    {
      "cell_type": "markdown",
      "metadata": {
        "papermill": {
          "duration": 0.082605,
          "end_time": "2021-02-13T20:41:53.231434",
          "exception": false,
          "start_time": "2021-02-13T20:41:53.148829",
          "status": "completed"
        },
        "tags": [],
        "id": "TCueB_IbvVYO"
      },
      "source": [
        "Predicción"
      ]
    },
    {
      "cell_type": "code",
      "metadata": {
        "execution": {
          "iopub.execute_input": "2021-02-13T20:41:53.402280Z",
          "iopub.status.busy": "2021-02-13T20:41:53.401568Z",
          "iopub.status.idle": "2021-02-13T20:41:53.664040Z",
          "shell.execute_reply": "2021-02-13T20:41:53.664575Z"
        },
        "papermill": {
          "duration": 0.349768,
          "end_time": "2021-02-13T20:41:53.664759",
          "exception": false,
          "start_time": "2021-02-13T20:41:53.314991",
          "status": "completed"
        },
        "tags": [],
        "colab": {
          "base_uri": "https://localhost:8080/",
          "height": 468
        },
        "id": "A6jtpxclvVYT",
        "outputId": "16693117-3be8-4d67-c4d9-b71a1f51a227"
      },
      "source": [
        "aa=[x for x in range(500)]\n",
        "plt.figure(figsize=(25,10)) \n",
        "plt.plot(aa, inv_y[:500], marker='.', label=\"actual\")\n",
        "plt.plot(aa, inv_yhat[:500], 'r', label=\"prediccion\")\n",
        "plt.ylabel(df.columns[0], size=15)\n",
        "plt.xlabel('Para las primeras 500 horas', size=15)\n",
        "plt.legend(fontsize=15)\n",
        "plt.show()"
      ],
      "execution_count": 241,
      "outputs": [
        {
          "output_type": "display_data",
          "data": {
            "image/png": "[encoded data removed]",
            "text/plain": [
              "<Figure size 1800x720 with 1 Axes>"
            ]
          },
          "metadata": {
            "tags": [],
            "needs_background": "light"
          }
        }
      ]
    },
    {
      "cell_type": "markdown",
      "metadata": {
        "id": "ZuECn0FequwQ"
      },
      "source": [
        "Probando con test dataset"
      ]
    },
    {
      "cell_type": "code",
      "metadata": {
        "id": "-6WDOTsdqyRP"
      },
      "source": [
        "dfx= pd.read_csv('./Test_base.txt',\n",
        "                infer_datetime_format=True,\n",
        "                parse_dates={'Fecha_Registro':[1,2]}, index_col=['Fecha_Registro'])\n",
        "del dfx['ID_Registro']\n",
        "df2= pd.read_csv('./Test_base.txt',\n",
        "                infer_datetime_format=True,\n",
        "                parse_dates={'Fecha_Registro':[1,2]}, index_col=['Fecha_Registro'])"
      ],
      "execution_count": 487,
      "outputs": []
    },
    {
      "cell_type": "code",
      "metadata": {
        "id": "7PX5N7pbVpJd"
      },
      "source": [
        "dfx = dfx[[ 'Consumo_Energia_Reactiva_kw', 'Voltaje_vol',\n",
        "       'Intensidad_global_ampere', 'Consumo_Energia_Area_2_calidad_watt_hora', 'Consumo_Energia_Area_1_administrativo_watt_hora','Consumo_Energia_Area_3_productivo_watt_hora',\n",
        "       ]]"
      ],
      "execution_count": 336,
      "outputs": []
    },
    {
      "cell_type": "code",
      "metadata": {
        "id": "FCkPoPSfQL0G"
      },
      "source": [
        "values2 = dfx.values\n",
        "dfx['Potencia-cosphi'] = ((np.sqrt(1 - np.square((values2[:,0]*1000) / (values2[:,1] * values2[:,2]))))*values2[:,1]*values2[:,2])/1000\n",
        "del dfx['Voltaje_vol']\n",
        "\n"
      ],
      "execution_count": 337,
      "outputs": []
    },
    {
      "cell_type": "code",
      "metadata": {
        "colab": {
          "base_uri": "https://localhost:8080/",
          "height": 640
        },
        "id": "06eXrV-vQjOe",
        "outputId": "bee0ec1c-1a39-4265-9cc4-32cb9af13fc7"
      },
      "source": [
        "dfx"
      ],
      "execution_count": 272,
      "outputs": [
        {
          "output_type": "execute_result",
          "data": {
            "text/html": [
              "<div>\n",
              "<style scoped>\n",
              "    .dataframe tbody tr th:only-of-type {\n",
              "        vertical-align: middle;\n",
              "    }\n",
              "\n",
              "    .dataframe tbody tr th {\n",
              "        vertical-align: top;\n",
              "    }\n",
              "\n",
              "    .dataframe thead th {\n",
              "        text-align: right;\n",
              "    }\n",
              "</style>\n",
              "<table border=\"1\" class=\"dataframe\">\n",
              "  <thead>\n",
              "    <tr style=\"text-align: right;\">\n",
              "      <th></th>\n",
              "      <th>Consumo_Energia_Reactiva_kw</th>\n",
              "      <th>Intensidad_global_ampere</th>\n",
              "      <th>Consumo_Energia_Area_1_administrativo_watt_hora</th>\n",
              "      <th>Consumo_Energia_Area_2_calidad_watt_hora</th>\n",
              "      <th>Consumo_Energia_Area_3_productivo_watt_hora</th>\n",
              "      <th>Potencia-cosphi</th>\n",
              "    </tr>\n",
              "    <tr>\n",
              "      <th>Fecha_Registro</th>\n",
              "      <th></th>\n",
              "      <th></th>\n",
              "      <th></th>\n",
              "      <th></th>\n",
              "      <th></th>\n",
              "      <th></th>\n",
              "    </tr>\n",
              "  </thead>\n",
              "  <tbody>\n",
              "    <tr>\n",
              "      <th>2019-09-18 10:23:00</th>\n",
              "      <td>0.248</td>\n",
              "      <td>2.6</td>\n",
              "      <td>0.0</td>\n",
              "      <td>1.0</td>\n",
              "      <td>1.0</td>\n",
              "      <td>0.570674</td>\n",
              "    </tr>\n",
              "    <tr>\n",
              "      <th>2019-09-18 10:24:00</th>\n",
              "      <td>0.248</td>\n",
              "      <td>2.6</td>\n",
              "      <td>0.0</td>\n",
              "      <td>1.0</td>\n",
              "      <td>1.0</td>\n",
              "      <td>0.570957</td>\n",
              "    </tr>\n",
              "    <tr>\n",
              "      <th>2019-09-18 10:25:00</th>\n",
              "      <td>0.226</td>\n",
              "      <td>2.4</td>\n",
              "      <td>0.0</td>\n",
              "      <td>1.0</td>\n",
              "      <td>0.0</td>\n",
              "      <td>0.531194</td>\n",
              "    </tr>\n",
              "    <tr>\n",
              "      <th>2019-09-18 10:26:00</th>\n",
              "      <td>0.150</td>\n",
              "      <td>2.2</td>\n",
              "      <td>0.0</td>\n",
              "      <td>1.0</td>\n",
              "      <td>1.0</td>\n",
              "      <td>0.507966</td>\n",
              "    </tr>\n",
              "    <tr>\n",
              "      <th>2019-09-18 10:27:00</th>\n",
              "      <td>0.152</td>\n",
              "      <td>2.2</td>\n",
              "      <td>0.0</td>\n",
              "      <td>2.0</td>\n",
              "      <td>0.0</td>\n",
              "      <td>0.507692</td>\n",
              "    </tr>\n",
              "    <tr>\n",
              "      <th>...</th>\n",
              "      <td>...</td>\n",
              "      <td>...</td>\n",
              "      <td>...</td>\n",
              "      <td>...</td>\n",
              "      <td>...</td>\n",
              "      <td>...</td>\n",
              "    </tr>\n",
              "    <tr>\n",
              "      <th>2019-11-26 20:58:00</th>\n",
              "      <td>0.000</td>\n",
              "      <td>4.0</td>\n",
              "      <td>0.0</td>\n",
              "      <td>0.0</td>\n",
              "      <td>0.0</td>\n",
              "      <td>0.961720</td>\n",
              "    </tr>\n",
              "    <tr>\n",
              "      <th>2019-11-26 20:59:00</th>\n",
              "      <td>0.000</td>\n",
              "      <td>4.0</td>\n",
              "      <td>0.0</td>\n",
              "      <td>0.0</td>\n",
              "      <td>0.0</td>\n",
              "      <td>0.960000</td>\n",
              "    </tr>\n",
              "    <tr>\n",
              "      <th>2019-11-26 21:00:00</th>\n",
              "      <td>0.000</td>\n",
              "      <td>3.8</td>\n",
              "      <td>0.0</td>\n",
              "      <td>0.0</td>\n",
              "      <td>0.0</td>\n",
              "      <td>0.911316</td>\n",
              "    </tr>\n",
              "    <tr>\n",
              "      <th>2019-11-26 21:01:00</th>\n",
              "      <td>0.000</td>\n",
              "      <td>3.8</td>\n",
              "      <td>0.0</td>\n",
              "      <td>0.0</td>\n",
              "      <td>0.0</td>\n",
              "      <td>0.910860</td>\n",
              "    </tr>\n",
              "    <tr>\n",
              "      <th>2019-11-26 21:02:00</th>\n",
              "      <td>0.000</td>\n",
              "      <td>3.8</td>\n",
              "      <td>0.0</td>\n",
              "      <td>0.0</td>\n",
              "      <td>0.0</td>\n",
              "      <td>0.910290</td>\n",
              "    </tr>\n",
              "  </tbody>\n",
              "</table>\n",
              "<p>94762 rows × 6 columns</p>\n",
              "</div>"
            ],
            "text/plain": [
              "                     Consumo_Energia_Reactiva_kw  ...  Potencia-cosphi\n",
              "Fecha_Registro                                    ...                 \n",
              "2019-09-18 10:23:00                        0.248  ...         0.570674\n",
              "2019-09-18 10:24:00                        0.248  ...         0.570957\n",
              "2019-09-18 10:25:00                        0.226  ...         0.531194\n",
              "2019-09-18 10:26:00                        0.150  ...         0.507966\n",
              "2019-09-18 10:27:00                        0.152  ...         0.507692\n",
              "...                                          ...  ...              ...\n",
              "2019-11-26 20:58:00                        0.000  ...         0.961720\n",
              "2019-11-26 20:59:00                        0.000  ...         0.960000\n",
              "2019-11-26 21:00:00                        0.000  ...         0.911316\n",
              "2019-11-26 21:01:00                        0.000  ...         0.910860\n",
              "2019-11-26 21:02:00                        0.000  ...         0.910290\n",
              "\n",
              "[94762 rows x 6 columns]"
            ]
          },
          "metadata": {
            "tags": []
          },
          "execution_count": 272
        }
      ]
    },
    {
      "cell_type": "code",
      "metadata": {
        "colab": {
          "base_uri": "https://localhost:8080/"
        },
        "id": "5QaK6XT-RhFT",
        "outputId": "ce804176-5cde-46f0-f156-5f9500e1080f"
      },
      "source": [
        "values2.shape"
      ],
      "execution_count": 313,
      "outputs": [
        {
          "output_type": "execute_result",
          "data": {
            "text/plain": [
              "(94762, 6)"
            ]
          },
          "metadata": {
            "tags": []
          },
          "execution_count": 313
        }
      ]
    },
    {
      "cell_type": "code",
      "metadata": {
        "colab": {
          "base_uri": "https://localhost:8080/"
        },
        "id": "VDRhL8tTsB-1",
        "outputId": "7c4e2fa4-f93a-429d-cb68-0598ab0c5a92"
      },
      "source": [
        "values2 = dfx.values\n",
        "zeros = np.zeros((values2.shape[0],1))\n",
        "values2 = np.concatenate((zeros, values2[:,:]), axis=1)\n",
        "#scaler2 = MinMaxScaler(feature_range=(0, 1))\n",
        "scaled2 = scaler.transform(values2)\n",
        "values2 = scaled2\n",
        "test_x2 = values2[:, 1:]\n",
        "test_x2 = test_x2.reshape((test_x2.shape[0], 1, test_x2.shape[1]))\n",
        "test_x2.shape, values2.max(),values.max()\n"
      ],
      "execution_count": 340,
      "outputs": [
        {
          "output_type": "execute_result",
          "data": {
            "text/plain": [
              "((94762, 1, 6), 1.0, 1.0000000000000002)"
            ]
          },
          "metadata": {
            "tags": []
          },
          "execution_count": 340
        }
      ]
    },
    {
      "cell_type": "code",
      "metadata": {
        "colab": {
          "base_uri": "https://localhost:8080/"
        },
        "id": "OizFKuqMVavh",
        "outputId": "1c7dad9c-482d-425a-f21e-8fae8dbda06a"
      },
      "source": [
        "df_resample.columns"
      ],
      "execution_count": 338,
      "outputs": [
        {
          "output_type": "execute_result",
          "data": {
            "text/plain": [
              "Index(['Consumo_Energia_Global_kw', 'Consumo_Energia_Reactiva_kw',\n",
              "       'Intensidad_global_ampere', 'Consumo_Energia_Area_2_calidad_watt_hora',\n",
              "       'Consumo_Energia_Area_1_administrativo_watt_hora',\n",
              "       'Consumo_Energia_Area_3_productivo_watt_hora', 'Potencia-cosphi'],\n",
              "      dtype='object')"
            ]
          },
          "metadata": {
            "tags": []
          },
          "execution_count": 338
        }
      ]
    },
    {
      "cell_type": "code",
      "metadata": {
        "colab": {
          "base_uri": "https://localhost:8080/"
        },
        "id": "xqBGq7BzVd07",
        "outputId": "c723966f-ca78-4f2b-c261-1ad3fb9e5f1b"
      },
      "source": [
        "dfx.columns"
      ],
      "execution_count": 339,
      "outputs": [
        {
          "output_type": "execute_result",
          "data": {
            "text/plain": [
              "Index(['Consumo_Energia_Reactiva_kw', 'Intensidad_global_ampere',\n",
              "       'Consumo_Energia_Area_2_calidad_watt_hora',\n",
              "       'Consumo_Energia_Area_1_administrativo_watt_hora',\n",
              "       'Consumo_Energia_Area_3_productivo_watt_hora', 'Potencia-cosphi'],\n",
              "      dtype='object')"
            ]
          },
          "metadata": {
            "tags": []
          },
          "execution_count": 339
        }
      ]
    },
    {
      "cell_type": "code",
      "metadata": {
        "colab": {
          "base_uri": "https://localhost:8080/",
          "height": 406
        },
        "id": "VO4SsKO2UpvM",
        "outputId": "736f90be-395c-4669-f081-9ae906a6dd0c"
      },
      "source": [
        "scaled2 = scaler.transform(values2)\n",
        "pd.DataFrame(scaled)"
      ],
      "execution_count": 329,
      "outputs": [
        {
          "output_type": "execute_result",
          "data": {
            "text/html": [
              "<div>\n",
              "<style scoped>\n",
              "    .dataframe tbody tr th:only-of-type {\n",
              "        vertical-align: middle;\n",
              "    }\n",
              "\n",
              "    .dataframe tbody tr th {\n",
              "        vertical-align: top;\n",
              "    }\n",
              "\n",
              "    .dataframe thead th {\n",
              "        text-align: right;\n",
              "    }\n",
              "</style>\n",
              "<table border=\"1\" class=\"dataframe\">\n",
              "  <thead>\n",
              "    <tr style=\"text-align: right;\">\n",
              "      <th></th>\n",
              "      <th>0</th>\n",
              "      <th>1</th>\n",
              "      <th>2</th>\n",
              "      <th>3</th>\n",
              "      <th>4</th>\n",
              "      <th>5</th>\n",
              "      <th>6</th>\n",
              "    </tr>\n",
              "  </thead>\n",
              "  <tbody>\n",
              "    <tr>\n",
              "      <th>0</th>\n",
              "      <td>0.374796</td>\n",
              "      <td>0.300719</td>\n",
              "      <td>0.377593</td>\n",
              "      <td>0.0125</td>\n",
              "      <td>0.0</td>\n",
              "      <td>0.548387</td>\n",
              "      <td>0.384171</td>\n",
              "    </tr>\n",
              "    <tr>\n",
              "      <th>1</th>\n",
              "      <td>0.478363</td>\n",
              "      <td>0.313669</td>\n",
              "      <td>0.473029</td>\n",
              "      <td>0.0125</td>\n",
              "      <td>0.0</td>\n",
              "      <td>0.516129</td>\n",
              "      <td>0.479445</td>\n",
              "    </tr>\n",
              "    <tr>\n",
              "      <th>2</th>\n",
              "      <td>0.479631</td>\n",
              "      <td>0.358273</td>\n",
              "      <td>0.473029</td>\n",
              "      <td>0.0250</td>\n",
              "      <td>0.0</td>\n",
              "      <td>0.548387</td>\n",
              "      <td>0.478247</td>\n",
              "    </tr>\n",
              "    <tr>\n",
              "      <th>3</th>\n",
              "      <td>0.480898</td>\n",
              "      <td>0.361151</td>\n",
              "      <td>0.473029</td>\n",
              "      <td>0.0125</td>\n",
              "      <td>0.0</td>\n",
              "      <td>0.548387</td>\n",
              "      <td>0.479152</td>\n",
              "    </tr>\n",
              "    <tr>\n",
              "      <th>4</th>\n",
              "      <td>0.325005</td>\n",
              "      <td>0.379856</td>\n",
              "      <td>0.323651</td>\n",
              "      <td>0.0125</td>\n",
              "      <td>0.0</td>\n",
              "      <td>0.548387</td>\n",
              "      <td>0.328661</td>\n",
              "    </tr>\n",
              "    <tr>\n",
              "      <th>...</th>\n",
              "      <td>...</td>\n",
              "      <td>...</td>\n",
              "      <td>...</td>\n",
              "      <td>...</td>\n",
              "      <td>...</td>\n",
              "      <td>...</td>\n",
              "      <td>...</td>\n",
              "    </tr>\n",
              "    <tr>\n",
              "      <th>1976695</th>\n",
              "      <td>0.045808</td>\n",
              "      <td>0.178417</td>\n",
              "      <td>0.049793</td>\n",
              "      <td>0.0250</td>\n",
              "      <td>0.0</td>\n",
              "      <td>0.000000</td>\n",
              "      <td>0.047370</td>\n",
              "    </tr>\n",
              "    <tr>\n",
              "      <th>1976696</th>\n",
              "      <td>0.045265</td>\n",
              "      <td>0.178417</td>\n",
              "      <td>0.049793</td>\n",
              "      <td>0.0125</td>\n",
              "      <td>0.0</td>\n",
              "      <td>0.032258</td>\n",
              "      <td>0.047327</td>\n",
              "    </tr>\n",
              "    <tr>\n",
              "      <th>1976697</th>\n",
              "      <td>0.045265</td>\n",
              "      <td>0.178417</td>\n",
              "      <td>0.049793</td>\n",
              "      <td>0.0125</td>\n",
              "      <td>0.0</td>\n",
              "      <td>0.032258</td>\n",
              "      <td>0.047381</td>\n",
              "    </tr>\n",
              "    <tr>\n",
              "      <th>1976698</th>\n",
              "      <td>0.045084</td>\n",
              "      <td>0.179856</td>\n",
              "      <td>0.049793</td>\n",
              "      <td>0.0125</td>\n",
              "      <td>0.0</td>\n",
              "      <td>0.000000</td>\n",
              "      <td>0.047320</td>\n",
              "    </tr>\n",
              "    <tr>\n",
              "      <th>1976699</th>\n",
              "      <td>0.044722</td>\n",
              "      <td>0.178417</td>\n",
              "      <td>0.049793</td>\n",
              "      <td>0.0125</td>\n",
              "      <td>0.0</td>\n",
              "      <td>0.032258</td>\n",
              "      <td>0.047311</td>\n",
              "    </tr>\n",
              "  </tbody>\n",
              "</table>\n",
              "<p>1976700 rows × 7 columns</p>\n",
              "</div>"
            ],
            "text/plain": [
              "                0         1         2       3    4         5         6\n",
              "0        0.374796  0.300719  0.377593  0.0125  0.0  0.548387  0.384171\n",
              "1        0.478363  0.313669  0.473029  0.0125  0.0  0.516129  0.479445\n",
              "2        0.479631  0.358273  0.473029  0.0250  0.0  0.548387  0.478247\n",
              "3        0.480898  0.361151  0.473029  0.0125  0.0  0.548387  0.479152\n",
              "4        0.325005  0.379856  0.323651  0.0125  0.0  0.548387  0.328661\n",
              "...           ...       ...       ...     ...  ...       ...       ...\n",
              "1976695  0.045808  0.178417  0.049793  0.0250  0.0  0.000000  0.047370\n",
              "1976696  0.045265  0.178417  0.049793  0.0125  0.0  0.032258  0.047327\n",
              "1976697  0.045265  0.178417  0.049793  0.0125  0.0  0.032258  0.047381\n",
              "1976698  0.045084  0.179856  0.049793  0.0125  0.0  0.000000  0.047320\n",
              "1976699  0.044722  0.178417  0.049793  0.0125  0.0  0.032258  0.047311\n",
              "\n",
              "[1976700 rows x 7 columns]"
            ]
          },
          "metadata": {
            "tags": []
          },
          "execution_count": 329
        }
      ]
    },
    {
      "cell_type": "markdown",
      "metadata": {
        "id": "9nDF-SZqT6BU"
      },
      "source": [
        "#Predicción de dataset"
      ]
    },
    {
      "cell_type": "code",
      "metadata": {
        "colab": {
          "base_uri": "https://localhost:8080/",
          "height": 640
        },
        "id": "0LRmg73QS--f",
        "outputId": "a6793067-6cba-4695-9661-95c01c53196f"
      },
      "source": [
        "dfx"
      ],
      "execution_count": 304,
      "outputs": [
        {
          "output_type": "execute_result",
          "data": {
            "text/html": [
              "<div>\n",
              "<style scoped>\n",
              "    .dataframe tbody tr th:only-of-type {\n",
              "        vertical-align: middle;\n",
              "    }\n",
              "\n",
              "    .dataframe tbody tr th {\n",
              "        vertical-align: top;\n",
              "    }\n",
              "\n",
              "    .dataframe thead th {\n",
              "        text-align: right;\n",
              "    }\n",
              "</style>\n",
              "<table border=\"1\" class=\"dataframe\">\n",
              "  <thead>\n",
              "    <tr style=\"text-align: right;\">\n",
              "      <th></th>\n",
              "      <th>Consumo_Energia_Reactiva_kw</th>\n",
              "      <th>Intensidad_global_ampere</th>\n",
              "      <th>Consumo_Energia_Area_1_administrativo_watt_hora</th>\n",
              "      <th>Consumo_Energia_Area_2_calidad_watt_hora</th>\n",
              "      <th>Consumo_Energia_Area_3_productivo_watt_hora</th>\n",
              "      <th>Potencia-cosphi</th>\n",
              "    </tr>\n",
              "    <tr>\n",
              "      <th>Fecha_Registro</th>\n",
              "      <th></th>\n",
              "      <th></th>\n",
              "      <th></th>\n",
              "      <th></th>\n",
              "      <th></th>\n",
              "      <th></th>\n",
              "    </tr>\n",
              "  </thead>\n",
              "  <tbody>\n",
              "    <tr>\n",
              "      <th>2019-09-18 10:23:00</th>\n",
              "      <td>0.248</td>\n",
              "      <td>2.6</td>\n",
              "      <td>0.0</td>\n",
              "      <td>1.0</td>\n",
              "      <td>1.0</td>\n",
              "      <td>0.570674</td>\n",
              "    </tr>\n",
              "    <tr>\n",
              "      <th>2019-09-18 10:24:00</th>\n",
              "      <td>0.248</td>\n",
              "      <td>2.6</td>\n",
              "      <td>0.0</td>\n",
              "      <td>1.0</td>\n",
              "      <td>1.0</td>\n",
              "      <td>0.570957</td>\n",
              "    </tr>\n",
              "    <tr>\n",
              "      <th>2019-09-18 10:25:00</th>\n",
              "      <td>0.226</td>\n",
              "      <td>2.4</td>\n",
              "      <td>0.0</td>\n",
              "      <td>1.0</td>\n",
              "      <td>0.0</td>\n",
              "      <td>0.531194</td>\n",
              "    </tr>\n",
              "    <tr>\n",
              "      <th>2019-09-18 10:26:00</th>\n",
              "      <td>0.150</td>\n",
              "      <td>2.2</td>\n",
              "      <td>0.0</td>\n",
              "      <td>1.0</td>\n",
              "      <td>1.0</td>\n",
              "      <td>0.507966</td>\n",
              "    </tr>\n",
              "    <tr>\n",
              "      <th>2019-09-18 10:27:00</th>\n",
              "      <td>0.152</td>\n",
              "      <td>2.2</td>\n",
              "      <td>0.0</td>\n",
              "      <td>2.0</td>\n",
              "      <td>0.0</td>\n",
              "      <td>0.507692</td>\n",
              "    </tr>\n",
              "    <tr>\n",
              "      <th>...</th>\n",
              "      <td>...</td>\n",
              "      <td>...</td>\n",
              "      <td>...</td>\n",
              "      <td>...</td>\n",
              "      <td>...</td>\n",
              "      <td>...</td>\n",
              "    </tr>\n",
              "    <tr>\n",
              "      <th>2019-11-26 20:58:00</th>\n",
              "      <td>0.000</td>\n",
              "      <td>4.0</td>\n",
              "      <td>0.0</td>\n",
              "      <td>0.0</td>\n",
              "      <td>0.0</td>\n",
              "      <td>0.961720</td>\n",
              "    </tr>\n",
              "    <tr>\n",
              "      <th>2019-11-26 20:59:00</th>\n",
              "      <td>0.000</td>\n",
              "      <td>4.0</td>\n",
              "      <td>0.0</td>\n",
              "      <td>0.0</td>\n",
              "      <td>0.0</td>\n",
              "      <td>0.960000</td>\n",
              "    </tr>\n",
              "    <tr>\n",
              "      <th>2019-11-26 21:00:00</th>\n",
              "      <td>0.000</td>\n",
              "      <td>3.8</td>\n",
              "      <td>0.0</td>\n",
              "      <td>0.0</td>\n",
              "      <td>0.0</td>\n",
              "      <td>0.911316</td>\n",
              "    </tr>\n",
              "    <tr>\n",
              "      <th>2019-11-26 21:01:00</th>\n",
              "      <td>0.000</td>\n",
              "      <td>3.8</td>\n",
              "      <td>0.0</td>\n",
              "      <td>0.0</td>\n",
              "      <td>0.0</td>\n",
              "      <td>0.910860</td>\n",
              "    </tr>\n",
              "    <tr>\n",
              "      <th>2019-11-26 21:02:00</th>\n",
              "      <td>0.000</td>\n",
              "      <td>3.8</td>\n",
              "      <td>0.0</td>\n",
              "      <td>0.0</td>\n",
              "      <td>0.0</td>\n",
              "      <td>0.910290</td>\n",
              "    </tr>\n",
              "  </tbody>\n",
              "</table>\n",
              "<p>94762 rows × 6 columns</p>\n",
              "</div>"
            ],
            "text/plain": [
              "                     Consumo_Energia_Reactiva_kw  ...  Potencia-cosphi\n",
              "Fecha_Registro                                    ...                 \n",
              "2019-09-18 10:23:00                        0.248  ...         0.570674\n",
              "2019-09-18 10:24:00                        0.248  ...         0.570957\n",
              "2019-09-18 10:25:00                        0.226  ...         0.531194\n",
              "2019-09-18 10:26:00                        0.150  ...         0.507966\n",
              "2019-09-18 10:27:00                        0.152  ...         0.507692\n",
              "...                                          ...  ...              ...\n",
              "2019-11-26 20:58:00                        0.000  ...         0.961720\n",
              "2019-11-26 20:59:00                        0.000  ...         0.960000\n",
              "2019-11-26 21:00:00                        0.000  ...         0.911316\n",
              "2019-11-26 21:01:00                        0.000  ...         0.910860\n",
              "2019-11-26 21:02:00                        0.000  ...         0.910290\n",
              "\n",
              "[94762 rows x 6 columns]"
            ]
          },
          "metadata": {
            "tags": []
          },
          "execution_count": 304
        }
      ]
    },
    {
      "cell_type": "code",
      "metadata": {
        "colab": {
          "base_uri": "https://localhost:8080/"
        },
        "id": "JtdKNsJoSx3q",
        "outputId": "4ef3b027-ba97-4c92-dbb4-abf59e45a7bf"
      },
      "source": [
        "inv_yhat2.shape"
      ],
      "execution_count": 302,
      "outputs": [
        {
          "output_type": "execute_result",
          "data": {
            "text/plain": [
              "(94762, 6)"
            ]
          },
          "metadata": {
            "tags": []
          },
          "execution_count": 302
        }
      ]
    },
    {
      "cell_type": "code",
      "metadata": {
        "colab": {
          "base_uri": "https://localhost:8080/"
        },
        "id": "Ciyha662tERh",
        "outputId": "413ce451-17ec-4168-ffe6-8e5b478fad5f"
      },
      "source": [
        "size2 = dfx.shape[1]\n",
        "yhat2 = model.predict(test_x2)\n",
        "test_x2 = test_x2.reshape((test_x2.shape[0], size2))\n",
        "# invert scaling for prediction#\n",
        "inv_yhat2 = np.concatenate((yhat2, test_x2[:,:]), axis=1)\n",
        "inv_yhat2_b = scaler.inverse_transform(inv_yhat2)\n",
        "inv_yhat2_b.shape"
      ],
      "execution_count": 342,
      "outputs": [
        {
          "output_type": "execute_result",
          "data": {
            "text/plain": [
              "(94762, 7)"
            ]
          },
          "metadata": {
            "tags": []
          },
          "execution_count": 342
        }
      ]
    },
    {
      "cell_type": "code",
      "metadata": {
        "colab": {
          "base_uri": "https://localhost:8080/"
        },
        "id": "pBoY0jAJT_ai",
        "outputId": "e1ac2486-8737-40e0-8483-aa6b600f6824"
      },
      "source": [
        "yhat.max()"
      ],
      "execution_count": 316,
      "outputs": [
        {
          "output_type": "execute_result",
          "data": {
            "text/plain": [
              "0.842521"
            ]
          },
          "metadata": {
            "tags": []
          },
          "execution_count": 316
        }
      ]
    },
    {
      "cell_type": "code",
      "metadata": {
        "colab": {
          "base_uri": "https://localhost:8080/"
        },
        "id": "GcVkXG-wT6gP",
        "outputId": "2244119f-08c0-47c9-ad2b-0f74c3121a78"
      },
      "source": [
        "yhat2.max()"
      ],
      "execution_count": 343,
      "outputs": [
        {
          "output_type": "execute_result",
          "data": {
            "text/plain": [
              "0.9574909"
            ]
          },
          "metadata": {
            "tags": []
          },
          "execution_count": 343
        }
      ]
    },
    {
      "cell_type": "code",
      "metadata": {
        "colab": {
          "base_uri": "https://localhost:8080/"
        },
        "id": "39sB87OxUH7N",
        "outputId": "62c6f6af-0c74-498d-a654-483f39f1b1f6"
      },
      "source": [
        "scaled2.max(), scaled.max()"
      ],
      "execution_count": 319,
      "outputs": [
        {
          "output_type": "execute_result",
          "data": {
            "text/plain": [
              "(5.255809128630706, 1.0000000000000002)"
            ]
          },
          "metadata": {
            "tags": []
          },
          "execution_count": 319
        }
      ]
    },
    {
      "cell_type": "code",
      "metadata": {
        "colab": {
          "base_uri": "https://localhost:8080/"
        },
        "id": "5ZMexM_4RNTL",
        "outputId": "144e55af-5320-4d0f-ff07-0dcd3d3302a9"
      },
      "source": [
        "predicciones = inv_yhat2_b[:, 0]\n",
        "predicciones.max()"
      ],
      "execution_count": 344,
      "outputs": [
        {
          "output_type": "execute_result",
          "data": {
            "text/plain": [
              "10.65244471359253"
            ]
          },
          "metadata": {
            "tags": []
          },
          "execution_count": 344
        }
      ]
    },
    {
      "cell_type": "markdown",
      "metadata": {
        "id": "Uy3yRLdZablX"
      },
      "source": [
        "Predicciones a csv"
      ]
    },
    {
      "cell_type": "code",
      "metadata": {
        "id": "3jGc1XaFUAZs"
      },
      "source": [
        "df_prediccion = pd.DataFrame(predicciones)\n"
      ],
      "execution_count": 345,
      "outputs": []
    },
    {
      "cell_type": "code",
      "metadata": {
        "id": "EQOuiIiTb1JT",
        "colab": {
          "base_uri": "https://localhost:8080/",
          "height": 282
        },
        "outputId": "cfc96529-a91d-489b-e2e2-e431bb745fac"
      },
      "source": [
        "df_prediccion[0].plot()"
      ],
      "execution_count": 346,
      "outputs": [
        {
          "output_type": "execute_result",
          "data": {
            "text/plain": [
              "<matplotlib.axes._subplots.AxesSubplot at 0x7f316ca3ef10>"
            ]
          },
          "metadata": {
            "tags": []
          },
          "execution_count": 346
        },
        {
          "output_type": "display_data",
          "data": {
            "image/png": "[encoded data removed]",
            "text/plain": [
              "<Figure size 432x288 with 1 Axes>"
            ]
          },
          "metadata": {
            "tags": [],
            "needs_background": "light"
          }
        }
      ]
    },
    {
      "cell_type": "code",
      "metadata": {
        "id": "NGuduQm3gqri"
      },
      "source": [
        "df_final = pd.DataFrame()"
      ],
      "execution_count": 347,
      "outputs": []
    },
    {
      "cell_type": "code",
      "metadata": {
        "id": "uaJKX4Bpla_y"
      },
      "source": [
        "df_final['ID_Registro'] = df2['ID_Registro'] \n",
        "df_final['Consumo_Energia_Global_kw'] = predicciones"
      ],
      "execution_count": 348,
      "outputs": []
    },
    {
      "cell_type": "code",
      "metadata": {
        "colab": {
          "base_uri": "https://localhost:8080/",
          "height": 436
        },
        "id": "_dyihu_RmJbH",
        "outputId": "b17875b0-5eb9-48f8-8f58-6c1419f30cf7"
      },
      "source": [
        "df_final"
      ],
      "execution_count": 349,
      "outputs": [
        {
          "output_type": "execute_result",
          "data": {
            "text/html": [
              "<div>\n",
              "<style scoped>\n",
              "    .dataframe tbody tr th:only-of-type {\n",
              "        vertical-align: middle;\n",
              "    }\n",
              "\n",
              "    .dataframe tbody tr th {\n",
              "        vertical-align: top;\n",
              "    }\n",
              "\n",
              "    .dataframe thead th {\n",
              "        text-align: right;\n",
              "    }\n",
              "</style>\n",
              "<table border=\"1\" class=\"dataframe\">\n",
              "  <thead>\n",
              "    <tr style=\"text-align: right;\">\n",
              "      <th></th>\n",
              "      <th>ID_Registro</th>\n",
              "      <th>Consumo_Energia_Global_kw</th>\n",
              "    </tr>\n",
              "    <tr>\n",
              "      <th>Fecha_Registro</th>\n",
              "      <th></th>\n",
              "      <th></th>\n",
              "    </tr>\n",
              "  </thead>\n",
              "  <tbody>\n",
              "    <tr>\n",
              "      <th>2019-09-18 10:23:00</th>\n",
              "      <td>1975259</td>\n",
              "      <td>0.600082</td>\n",
              "    </tr>\n",
              "    <tr>\n",
              "      <th>2019-09-18 10:24:00</th>\n",
              "      <td>1975260</td>\n",
              "      <td>0.600237</td>\n",
              "    </tr>\n",
              "    <tr>\n",
              "      <th>2019-09-18 10:25:00</th>\n",
              "      <td>1975261</td>\n",
              "      <td>0.574742</td>\n",
              "    </tr>\n",
              "    <tr>\n",
              "      <th>2019-09-18 10:26:00</th>\n",
              "      <td>1975262</td>\n",
              "      <td>0.525391</td>\n",
              "    </tr>\n",
              "    <tr>\n",
              "      <th>2019-09-18 10:27:00</th>\n",
              "      <td>1975263</td>\n",
              "      <td>0.544483</td>\n",
              "    </tr>\n",
              "    <tr>\n",
              "      <th>...</th>\n",
              "      <td>...</td>\n",
              "      <td>...</td>\n",
              "    </tr>\n",
              "    <tr>\n",
              "      <th>2019-11-26 20:58:00</th>\n",
              "      <td>2075254</td>\n",
              "      <td>1.016904</td>\n",
              "    </tr>\n",
              "    <tr>\n",
              "      <th>2019-11-26 20:59:00</th>\n",
              "      <td>2075255</td>\n",
              "      <td>1.016031</td>\n",
              "    </tr>\n",
              "    <tr>\n",
              "      <th>2019-11-26 21:00:00</th>\n",
              "      <td>2075256</td>\n",
              "      <td>0.970250</td>\n",
              "    </tr>\n",
              "    <tr>\n",
              "      <th>2019-11-26 21:01:00</th>\n",
              "      <td>2075257</td>\n",
              "      <td>0.970014</td>\n",
              "    </tr>\n",
              "    <tr>\n",
              "      <th>2019-11-26 21:02:00</th>\n",
              "      <td>2075258</td>\n",
              "      <td>0.969720</td>\n",
              "    </tr>\n",
              "  </tbody>\n",
              "</table>\n",
              "<p>94762 rows × 2 columns</p>\n",
              "</div>"
            ],
            "text/plain": [
              "                     ID_Registro  Consumo_Energia_Global_kw\n",
              "Fecha_Registro                                             \n",
              "2019-09-18 10:23:00      1975259                   0.600082\n",
              "2019-09-18 10:24:00      1975260                   0.600237\n",
              "2019-09-18 10:25:00      1975261                   0.574742\n",
              "2019-09-18 10:26:00      1975262                   0.525391\n",
              "2019-09-18 10:27:00      1975263                   0.544483\n",
              "...                          ...                        ...\n",
              "2019-11-26 20:58:00      2075254                   1.016904\n",
              "2019-11-26 20:59:00      2075255                   1.016031\n",
              "2019-11-26 21:00:00      2075256                   0.970250\n",
              "2019-11-26 21:01:00      2075257                   0.970014\n",
              "2019-11-26 21:02:00      2075258                   0.969720\n",
              "\n",
              "[94762 rows x 2 columns]"
            ]
          },
          "metadata": {
            "tags": []
          },
          "execution_count": 349
        }
      ]
    },
    {
      "cell_type": "code",
      "metadata": {
        "id": "C_KhD2BRmKrW"
      },
      "source": [
        "df_final.to_csv('predicciones.csv',index=False)"
      ],
      "execution_count": 350,
      "outputs": []
    },
    {
      "cell_type": "code",
      "metadata": {
        "id": "ZECFhzqSmTM5"
      },
      "source": [
        ""
      ],
      "execution_count": null,
      "outputs": []
    }
  ]
}